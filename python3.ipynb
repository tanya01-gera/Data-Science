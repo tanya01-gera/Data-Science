{
 "cells": [
  {
   "cell_type": "code",
   "execution_count": 1,
   "id": "f4ee1a0b-b4b7-41a1-b398-085d46ef01a8",
   "metadata": {},
   "outputs": [
    {
     "name": "stdout",
     "output_type": "stream",
     "text": [
      "[('Tanya', 54), ('Nishtha', 88)]\n"
     ]
    }
   ],
   "source": [
    "student_name= [\"Tanya\", \"Nishtha\"]\n",
    "student_mark= [54, 88]\n",
    "student_detail = list(zip(student_name, student_mark))\n",
    "print(student_detail)"
   ]
  },
  {
   "cell_type": "code",
   "execution_count": 2,
   "id": "18c7c723-a052-4a5c-aa5f-229da2725039",
   "metadata": {},
   "outputs": [
    {
     "name": "stdout",
     "output_type": "stream",
     "text": [
      "Tanya scored 54 marks\n",
      "Nishtha scored 88 marks\n"
     ]
    }
   ],
   "source": [
    "for name, mark in student_detail:\n",
    "    print(f\"{name} scored {mark} marks\")"
   ]
  },
  {
   "cell_type": "code",
   "execution_count": 9,
   "id": "08929f18-32ed-4eec-85dd-c4ee2c169f80",
   "metadata": {},
   "outputs": [
    {
     "name": "stdout",
     "output_type": "stream",
     "text": [
      "('Tanya', 'Nishtha')\n",
      "(54, 88)\n"
     ]
    }
   ],
   "source": [
    "student_name= [\"Tanya\", \"Nishtha\"]\n",
    "student_mark= [54, 88]\n",
    "student_detail = list(zip(student_name, student_mark))\n",
    "names, marks =zip(*student_detail)\n",
    "\n",
    "print(names)\n",
    "print(marks)"
   ]
  },
  {
   "cell_type": "code",
   "execution_count": 1,
   "id": "ed0c285c-3df8-4549-9021-b77779f47135",
   "metadata": {},
   "outputs": [
    {
     "name": "stdout",
     "output_type": "stream",
     "text": [
      "0\n",
      "2\n",
      "4\n",
      "6\n",
      "8\n"
     ]
    }
   ],
   "source": [
    "for i in range(0, 10, 2):  # 0, 2, 4, 6, 8\n",
    "    print(i)"
   ]
  },
  {
   "cell_type": "code",
   "execution_count": 2,
   "id": "8d9daed9-ae8a-4c06-a752-974fc624ecbd",
   "metadata": {},
   "outputs": [
    {
     "name": "stdout",
     "output_type": "stream",
     "text": [
      "red\n",
      "blue\n",
      "green\n"
     ]
    }
   ],
   "source": [
    "colors = [\"red\", \"blue\", \"green\"]\n",
    "for color in colors:\n",
    "    print(color)"
   ]
  },
  {
   "cell_type": "code",
   "execution_count": 3,
   "id": "261462af-0448-4d37-9581-a0592dd9f0d7",
   "metadata": {},
   "outputs": [
    {
     "name": "stdout",
     "output_type": "stream",
     "text": [
      "h\n",
      "e\n",
      "l\n",
      "l\n",
      "o\n"
     ]
    }
   ],
   "source": [
    "for char in \"hello\":\n",
    "    print(char)"
   ]
  },
  {
   "cell_type": "code",
   "execution_count": 6,
   "id": "d1dd0530-76a8-4c39-afb9-70b3cdcb3b46",
   "metadata": {},
   "outputs": [
    {
     "ename": "NameError",
     "evalue": "name 'value' is not defined",
     "output_type": "error",
     "traceback": [
      "\u001b[1;31m---------------------------------------------------------------------------\u001b[0m",
      "\u001b[1;31mNameError\u001b[0m                                 Traceback (most recent call last)",
      "Cell \u001b[1;32mIn[6], line 2\u001b[0m\n\u001b[0;32m      1\u001b[0m person \u001b[38;5;241m=\u001b[39m {\u001b[38;5;124m\"\u001b[39m\u001b[38;5;124mname\u001b[39m\u001b[38;5;124m\"\u001b[39m: \u001b[38;5;124m\"\u001b[39m\u001b[38;5;124mAna\u001b[39m\u001b[38;5;124m\"\u001b[39m, \u001b[38;5;124m\"\u001b[39m\u001b[38;5;124mage\u001b[39m\u001b[38;5;124m\"\u001b[39m: \u001b[38;5;241m25\u001b[39m}\n\u001b[1;32m----> 2\u001b[0m \u001b[38;5;28;01mfor\u001b[39;00m key \u001b[38;5;129;01min\u001b[39;00m value:\n\u001b[0;32m      3\u001b[0m     \u001b[38;5;28mprint\u001b[39m(key, \u001b[38;5;124m\"\u001b[39m\u001b[38;5;124m:\u001b[39m\u001b[38;5;124m\"\u001b[39m, value)\n",
      "\u001b[1;31mNameError\u001b[0m: name 'value' is not defined"
     ]
    }
   ],
   "source": [
    "person = {\"name\": \"Ana\", \"age\": 25}\n",
    "for key in value:\n",
    "    print(key, \":\", value)"
   ]
  },
  {
   "cell_type": "code",
   "execution_count": 7,
   "id": "03754e76-bbe3-4c78-93d3-c28f9bee80f9",
   "metadata": {},
   "outputs": [
    {
     "name": "stdout",
     "output_type": "stream",
     "text": [
      "i=1, j=1\n",
      "i=1, j=2\n",
      "i=2, j=1\n",
      "i=2, j=2\n",
      "i=3, j=1\n",
      "i=3, j=2\n"
     ]
    }
   ],
   "source": [
    "for i in range(1, 4):\n",
    "    for j in range(1, 3):\n",
    "        print(f\"i={i}, j={j}\")"
   ]
  },
  {
   "cell_type": "code",
   "execution_count": 8,
   "id": "7f79abf2-1bb7-4586-bb09-530f931ff41c",
   "metadata": {},
   "outputs": [
    {
     "name": "stdout",
     "output_type": "stream",
     "text": [
      "1 1\n",
      "1 2\n",
      "2 1\n",
      "2 2\n",
      "3 1\n",
      "3 2\n"
     ]
    }
   ],
   "source": [
    "for i in range(1,4):\n",
    "    for j in range(1,3):\n",
    "        print(i,j)"
   ]
  },
  {
   "cell_type": "code",
   "execution_count": 13,
   "id": "8a6065ec-e29a-419a-b5ac-2286ca928b21",
   "metadata": {},
   "outputs": [
    {
     "name": "stdout",
     "output_type": "stream",
     "text": [
      "0\n",
      "1\n",
      "2\n",
      "3\n",
      "4\n",
      "5\n"
     ]
    }
   ],
   "source": [
    "for i in range(7):\n",
    "    if i ==6:\n",
    "        break\n",
    "    print(i)"
   ]
  },
  {
   "cell_type": "code",
   "execution_count": 14,
   "id": "f923e584-c7f8-416c-bc2f-7869679fc112",
   "metadata": {},
   "outputs": [
    {
     "name": "stdout",
     "output_type": "stream",
     "text": [
      "1\n",
      "2\n",
      "3\n",
      "4\n"
     ]
    }
   ],
   "source": [
    "for i in range(1,10):\n",
    "    if i == 5:\n",
    "        break\n",
    "    print(i)"
   ]
  },
  {
   "cell_type": "code",
   "execution_count": 17,
   "id": "9d704243-fad8-44c3-8477-8c7f752b53a8",
   "metadata": {},
   "outputs": [
    {
     "name": "stdout",
     "output_type": "stream",
     "text": [
      "1\n",
      "2\n",
      "3\n",
      "4\n",
      "6\n"
     ]
    }
   ],
   "source": [
    "for i in range(1,7):\n",
    "    if i==5:\n",
    "        continue\n",
    "    print(i)"
   ]
  },
  {
   "cell_type": "code",
   "execution_count": 18,
   "id": "910a9091-d45f-4df7-9ba1-ed4e69207a8d",
   "metadata": {},
   "outputs": [
    {
     "name": "stdout",
     "output_type": "stream",
     "text": [
      "0\n",
      "1\n",
      "2\n",
      "Loop completed.\n"
     ]
    }
   ],
   "source": [
    "for i in range(3):\n",
    "    print(i)\n",
    "else:\n",
    "    print(\"Loop completed.\")"
   ]
  },
  {
   "cell_type": "code",
   "execution_count": 20,
   "id": "07992e8a-cbfb-47ec-a656-e1fd9883e5c3",
   "metadata": {},
   "outputs": [
    {
     "name": "stdout",
     "output_type": "stream",
     "text": [
      "1\n",
      "2\n",
      "3\n",
      "4\n",
      "5\n"
     ]
    }
   ],
   "source": [
    "for i in range(1,6):\n",
    "    print(i)"
   ]
  },
  {
   "cell_type": "code",
   "execution_count": 21,
   "id": "4fcf233d-c114-4d38-ad6d-200830ad343a",
   "metadata": {},
   "outputs": [
    {
     "name": "stdout",
     "output_type": "stream",
     "text": [
      "apple\n",
      "banana\n",
      "cherry\n"
     ]
    }
   ],
   "source": [
    "fruits = [\"apple\", \"banana\", \"cherry\"]\n",
    "for fruit in fruits:\n",
    "    print(fruit)"
   ]
  },
  {
   "cell_type": "code",
   "execution_count": 22,
   "id": "6aadc031-76ac-49ea-88ae-36dd890d4cb2",
   "metadata": {},
   "outputs": [
    {
     "name": "stdout",
     "output_type": "stream",
     "text": [
      "p\n",
      "y\n",
      "t\n",
      "h\n",
      "o\n",
      "n\n"
     ]
    }
   ],
   "source": [
    "for letter in \"python\":\n",
    "    print(letter)"
   ]
  },
  {
   "cell_type": "code",
   "execution_count": 50,
   "id": "391ebaae-6ccd-49cd-a297-486199c974ad",
   "metadata": {},
   "outputs": [
    {
     "name": "stdout",
     "output_type": "stream",
     "text": [
      "[2, 4, 6, 8, 10]\n"
     ]
    }
   ],
   "source": [
    "numbers=[1,2,3,4,5,6,7,8,9,10,11]\n",
    "even_numbers = [x for x in numbers if x % 2 == 0]\n",
    "print(even_numbers)"
   ]
  },
  {
   "cell_type": "code",
   "execution_count": 55,
   "id": "2a2fe9d2-5b37-48a0-89be-f370e46f408d",
   "metadata": {},
   "outputs": [
    {
     "ename": "TypeError",
     "evalue": "'type' object is not iterable",
     "output_type": "error",
     "traceback": [
      "\u001b[1;31m---------------------------------------------------------------------------\u001b[0m",
      "\u001b[1;31mTypeError\u001b[0m                                 Traceback (most recent call last)",
      "Cell \u001b[1;32mIn[55], line 2\u001b[0m\n\u001b[0;32m      1\u001b[0m \u001b[38;5;28;01mfor\u001b[39;00m i \u001b[38;5;129;01min\u001b[39;00m \u001b[38;5;28mrange\u001b[39m(\u001b[38;5;241m1\u001b[39m,\u001b[38;5;241m10\u001b[39m):\n\u001b[1;32m----> 2\u001b[0m     reverse_num\u001b[38;5;241m=\u001b[39m [\u001b[38;5;28mrange\u001b[39m\u001b[38;5;241m.\u001b[39mreverse() \u001b[38;5;28;01mfor\u001b[39;00m i \u001b[38;5;129;01min\u001b[39;00m \u001b[38;5;28mrange\u001b[39m]\n\u001b[0;32m      3\u001b[0m \u001b[38;5;28mprint\u001b[39m(reverse_num)\n",
      "\u001b[1;31mTypeError\u001b[0m: 'type' object is not iterable"
     ]
    }
   ],
   "source": [
    "for i in range(1,10):\n",
    "    reverse_num= [range.reverse() for i in range]\n",
    "print(reverse_num)"
   ]
  },
  {
   "cell_type": "code",
   "execution_count": 61,
   "id": "521ec5e8-1e9e-4a19-b954-4bdb26e893eb",
   "metadata": {},
   "outputs": [
    {
     "ename": "SyntaxError",
     "evalue": "expected ':' (3619063466.py, line 1)",
     "output_type": "error",
     "traceback": [
      "\u001b[1;36m  Cell \u001b[1;32mIn[61], line 1\u001b[1;36m\u001b[0m\n\u001b[1;33m    for i in range(1,100)\u001b[0m\n\u001b[1;37m                         ^\u001b[0m\n\u001b[1;31mSyntaxError\u001b[0m\u001b[1;31m:\u001b[0m expected ':'\n"
     ]
    }
   ],
   "source": [
    "for i in range(1,100)\n",
    "sum = "
   ]
  },
  {
   "cell_type": "code",
   "execution_count": 64,
   "id": "a29efc3c-d4b6-45fd-b09e-2d3dce807d7a",
   "metadata": {},
   "outputs": [],
   "source": [
    "for i in range(10):\n",
    "    if i == 5:\n",
    "        break\n",
    "        print(i)"
   ]
  },
  {
   "cell_type": "code",
   "execution_count": 13,
   "id": "5acd002a-c6e2-4672-8c5a-03f2448ab61e",
   "metadata": {},
   "outputs": [
    {
     "name": "stdout",
     "output_type": "stream",
     "text": [
      "0\n",
      "1\n",
      "2\n",
      "3\n",
      "4\n"
     ]
    }
   ],
   "source": [
    "for i in range(10):\n",
    "    if i == 5:\n",
    "        break\n",
    "    print(i)"
   ]
  },
  {
   "cell_type": "code",
   "execution_count": 12,
   "id": "c634c53c-462f-42be-9841-94af1c36331e",
   "metadata": {},
   "outputs": [
    {
     "name": "stdout",
     "output_type": "stream",
     "text": [
      "0\n",
      "1\n",
      "2\n",
      "4\n"
     ]
    }
   ],
   "source": [
    "for i in range(0,5):\n",
    "    if i == 3:\n",
    "        continue\n",
    "    print(i)"
   ]
  },
  {
   "cell_type": "code",
   "execution_count": 10,
   "id": "ad2ef0f2-118b-43c5-b0cb-5b9e0f7171c1",
   "metadata": {},
   "outputs": [],
   "source": [
    "items = [\"pen\", \"pencil\", \"book\", \"eraser\"]\n",
    "for item in items:\n",
    "    if item == \"book\":\n",
    "        print( '\"Found the book!\", breaking the loop')\n",
    "    break"
   ]
  },
  {
   "cell_type": "code",
   "execution_count": 9,
   "id": "079f2c5d-4583-4e98-b206-99667f5b8073",
   "metadata": {},
   "outputs": [
    {
     "name": "stdout",
     "output_type": "stream",
     "text": [
      "1\n",
      "2\n",
      "3\n",
      "4\n",
      "5\n",
      "*\n",
      "* *\n",
      "* * *\n",
      "* * * *\n"
     ]
    }
   ],
   "source": [
    "for i in range(1,6):\n",
    "    print(i)\n",
    "    \n",
    "else:\n",
    "    print(\"*\")\n",
    "    print(\"* *\")\n",
    "    print(\"* * *\")\n",
    "    print(\"* * * *\")"
   ]
  },
  {
   "cell_type": "code",
   "execution_count": 14,
   "id": "b2fbc000-e5f2-447d-b5e5-9611f79038c4",
   "metadata": {},
   "outputs": [
    {
     "name": "stdout",
     "output_type": "stream",
     "text": [
      "Found the book!\n"
     ]
    }
   ],
   "source": [
    "items = [\"pen\", \"pencil\", \"book\", \"eraser\"]\n",
    "for item in items:\n",
    "    if item == \"book\":\n",
    "        print(\"Found the book!\")\n",
    "        break"
   ]
  },
  {
   "cell_type": "code",
   "execution_count": 16,
   "id": "52550d93-2f7d-473e-8dd2-b830181d5165",
   "metadata": {},
   "outputs": [
    {
     "name": "stdout",
     "output_type": "stream",
     "text": [
      "1 2 3 4 5 "
     ]
    }
   ],
   "source": [
    "for i in range(1,6):\n",
    "    print(i, end=\" \")"
   ]
  },
  {
   "cell_type": "code",
   "execution_count": 21,
   "id": "cb183c19-1576-45ed-bbda-5e29f7a09b85",
   "metadata": {},
   "outputs": [
    {
     "name": "stdout",
     "output_type": "stream",
     "text": [
      "[0, 1, 4, 9, 16, 25]\n"
     ]
    }
   ],
   "source": [
    "squares= [i**2  for i in range(6)]\n",
    "print(squares)"
   ]
  },
  {
   "cell_type": "code",
   "execution_count": 25,
   "id": "f1e62148-8f03-4412-9d38-8d9a5b0dfa15",
   "metadata": {},
   "outputs": [
    {
     "ename": "SyntaxError",
     "evalue": "invalid syntax (2753886427.py, line 2)",
     "output_type": "error",
     "traceback": [
      "\u001b[1;36m  Cell \u001b[1;32mIn[25], line 2\u001b[1;36m\u001b[0m\n\u001b[1;33m    word for word in words if len(word) > 4\u001b[0m\n\u001b[1;37m         ^\u001b[0m\n\u001b[1;31mSyntaxError\u001b[0m\u001b[1;31m:\u001b[0m invalid syntax\n"
     ]
    }
   ],
   "source": [
    "words = [\"sun\", \"bottle\", \"sky\", \"elephant\", \"hat\"]\n",
    "word for word in words if len(word) > 4\n",
    "    print(word)"
   ]
  },
  {
   "cell_type": "code",
   "execution_count": 36,
   "id": "d219fc1d-eea7-4a38-8a1b-2a4e22568fdf",
   "metadata": {},
   "outputs": [
    {
     "name": "stdout",
     "output_type": "stream",
     "text": [
      "I choose my focus. Not distractions.I choose my focus. Not distractions.I choose my focus. Not distractions.I choose my focus. Not distractions.I choose my focus. Not distractions. /n\n"
     ]
    },
    {
     "ename": "SyntaxError",
     "evalue": "'break' outside loop (1620265538.py, line 3)",
     "output_type": "error",
     "traceback": [
      "\u001b[1;36m  Cell \u001b[1;32mIn[36], line 3\u001b[1;36m\u001b[0m\n\u001b[1;33m    break\u001b[0m\n\u001b[1;37m    ^\u001b[0m\n\u001b[1;31mSyntaxError\u001b[0m\u001b[1;31m:\u001b[0m 'break' outside loop\n"
     ]
    }
   ],
   "source": [
    "sentence= \"I choose my focus. Not distractions.\"\n",
    "print(sentence*5, \"/n\")\n",
    "break\n",
    "print(\"back to my power\")"
   ]
  },
  {
   "cell_type": "code",
   "execution_count": 1,
   "id": "873cef45-9d67-4a48-b207-a1f80e7adcb6",
   "metadata": {},
   "outputs": [
    {
     "name": "stdout",
     "output_type": "stream",
     "text": [
      "2\n",
      "4\n",
      "6\n",
      "8\n",
      "10\n"
     ]
    }
   ],
   "source": [
    "num = 2\n",
    "while num <= 10:\n",
    "    print(num)\n",
    "    num += 2"
   ]
  },
  {
   "cell_type": "code",
   "execution_count": 8,
   "id": "2ba67a9f-b6f5-49f0-9ec4-378aff14b33c",
   "metadata": {},
   "outputs": [
    {
     "name": "stdout",
     "output_type": "stream",
     "text": [
      "5\n",
      "4\n",
      "3\n",
      "2\n",
      "1\n",
      "Liftoff!\n"
     ]
    }
   ],
   "source": [
    "num = 5\n",
    "while num >= 1:\n",
    "    print(num)\n",
    "    num -= 1\n",
    "\n",
    "print(\"Liftoff!\")"
   ]
  },
  {
   "cell_type": "code",
   "execution_count": 10,
   "id": "1d3f109d-615b-40ea-bef2-2907dc6512d1",
   "metadata": {},
   "outputs": [
    {
     "name": "stdout",
     "output_type": "stream",
     "text": [
      "1\n",
      "2\n",
      "3\n",
      "4\n",
      "5\n"
     ]
    }
   ],
   "source": [
    "num = 1\n",
    "while num <= 5:\n",
    "    print(num)\n",
    "    num += 1"
   ]
  },
  {
   "cell_type": "code",
   "execution_count": 11,
   "id": "5632c1d1-c4bc-415a-99e5-0fd52db7b34c",
   "metadata": {},
   "outputs": [
    {
     "name": "stdout",
     "output_type": "stream",
     "text": [
      "10\n",
      "9\n",
      "8\n",
      "7\n",
      "6\n"
     ]
    }
   ],
   "source": [
    "num = 10\n",
    "while num >= 6:\n",
    "    print(num)\n",
    "    num -= 1"
   ]
  },
  {
   "cell_type": "code",
   "execution_count": 12,
   "id": "5b783095-ffc9-47d0-a546-db62595ed4ff",
   "metadata": {},
   "outputs": [
    {
     "name": "stdout",
     "output_type": "stream",
     "text": [
      "3\n",
      "5\n",
      "7\n",
      "9\n",
      "11\n",
      "13\n",
      "15\n"
     ]
    }
   ],
   "source": [
    "#Count from 3 to 15, but only print the odd numbers\n",
    "num = 3\n",
    "while num <= 15:\n",
    "    print(num)\n",
    "    num +=2"
   ]
  },
  {
   "cell_type": "code",
   "execution_count": 14,
   "id": "b3cb250a-c4ae-4bb3-a514-249c704a1985",
   "metadata": {},
   "outputs": [
    {
     "name": "stdout",
     "output_type": "stream",
     "text": [
      "5050\n"
     ]
    }
   ],
   "source": [
    "num = 1\n",
    "total = 0\n",
    "while num <= 100:\n",
    "    total+= num\n",
    "    num += 1\n",
    "print(total)"
   ]
  },
  {
   "cell_type": "code",
   "execution_count": 19,
   "id": "fca2f1c6-9e33-4bc4-beb0-76fe28d93ce5",
   "metadata": {},
   "outputs": [
    {
     "name": "stdout",
     "output_type": "stream",
     "text": [
      "4\n",
      "16\n",
      "36\n",
      "64\n",
      "100\n",
      "144\n",
      "196\n",
      "256\n",
      "324\n",
      "400\n"
     ]
    }
   ],
   "source": [
    "num = 2\n",
    "while num <= 20:\n",
    "    square = num**2\n",
    "    print(square)\n",
    "    num +=2"
   ]
  },
  {
   "cell_type": "code",
   "execution_count": 20,
   "id": "8d1ff4cb-c245-4523-be6a-cb3e877f8d3c",
   "metadata": {},
   "outputs": [
    {
     "name": "stdout",
     "output_type": "stream",
     "text": [
      "2550\n"
     ]
    }
   ],
   "source": [
    "num = 2\n",
    "total = 0\n",
    "while num <=100:\n",
    "    total +=num\n",
    "    num += 2\n",
    "\n",
    "print(total)"
   ]
  },
  {
   "cell_type": "code",
   "execution_count": null,
   "id": "7010c261-4e63-4cc5-97d1-8015151ec135",
   "metadata": {},
   "outputs": [],
   "source": [
    "num = 1\n",
    "while num <=100:\n",
    "    if num == 42:\n",
    "        print(\"stopped at 42\")\n",
    "        break\n",
    "    print(num)\n",
    "    num += 1"
   ]
  },
  {
   "cell_type": "code",
   "execution_count": null,
   "id": "46532248-8083-4d3b-abf1-a7b984797a48",
   "metadata": {},
   "outputs": [],
   "source": [
    "num = 1\n",
    "while num <=30:\n",
    "    if num % 5 == 0:\n",
    "        continue\n",
    "    print(num)\n",
    "    num +=1"
   ]
  },
  {
   "cell_type": "code",
   "execution_count": null,
   "id": "1ccae9fa-5fd7-4581-a30d-8e51008f6a4b",
   "metadata": {},
   "outputs": [],
   "source": [
    "friends = [\"Aanchal\", \"Nishtha\", \"Aryan\", \"Mehak\"]\n",
    "index = 1\n",
    "\n",
    "while index < len(friends):\n",
    "    print(\"Friend\", index, \":\", friends[index])\n",
    "    index += 1"
   ]
  },
  {
   "cell_type": "code",
   "execution_count": null,
   "id": "2f73c037-2f4b-422b-8226-e29380ca107d",
   "metadata": {},
   "outputs": [],
   "source": [
    "numbers = [10, 25, 30, 47, 50, 63, 70, 88]\n",
    "index= 0\n",
    "count= 0\n",
    "\n",
    "while index < len(numbers):\n",
    "    number = numbers[index]\n",
    "    if number % 5 == 0 and number % 10 == 0:\n",
    "        print(number)\n",
    "        count +=1\n",
    "    index +=1\n",
    "    \n",
    "print(count)\n",
    "    "
   ]
  },
  {
   "cell_type": "code",
   "execution_count": null,
   "id": "63ed57d9-f22a-477d-a4ce-39bc69068e77",
   "metadata": {},
   "outputs": [],
   "source": [
    "num = 2\n",
    "count = 0\n",
    "\n",
    "while num <= 10:\n",
    "    square = num ** 2\n",
    "    print(square)\n",
    "    count += 1\n",
    "    num += 2\n",
    "    \n",
    "print(\"count is:\", count)"
   ]
  },
  {
   "cell_type": "code",
   "execution_count": null,
   "id": "700c0c06-9d52-4f46-a71b-4fd643357f63",
   "metadata": {},
   "outputs": [],
   "source": [
    "num = 2\n",
    "count = 0\n",
    "\n",
    "while num <= 10:\n",
    "    square = num ** 2\n",
    "    print(square)\n",
    "    count += 1\n",
    "    num += 2\n",
    "    \n",
    "print(\"count is:\", count)"
   ]
  },
  {
   "cell_type": "code",
   "execution_count": 3,
   "id": "355ae8d5-d902-4629-83a8-a73534107755",
   "metadata": {},
   "outputs": [
    {
     "name": "stdout",
     "output_type": "stream",
     "text": [
      "3\n",
      "6\n",
      "7\n",
      "9\n",
      "12\n",
      "14\n",
      "15\n",
      "18\n",
      "21\n",
      "24\n",
      "27\n",
      "28\n",
      "30\n",
      "33\n",
      "35\n",
      "36\n",
      "39\n",
      "42\n",
      "45\n",
      "48\n",
      "49\n",
      "count is: 21\n"
     ]
    }
   ],
   "source": [
    "#print all numbers from 1 to 50 that are divisible by 3 or 7, and count how many there are.\n",
    "number = 1\n",
    "count = 0\n",
    "\n",
    "while number <= 50:\n",
    "    if number % 3 == 0 or number % 7 == 0:\n",
    "        print(number)\n",
    "        count += 1\n",
    "    number += 1\n",
    "\n",
    "print( \"count is:\", count)\n"
   ]
  },
  {
   "cell_type": "code",
   "execution_count": 1,
   "id": "754e1b17-73d2-481e-9f65-2fca4c4782a0",
   "metadata": {},
   "outputs": [
    {
     "name": "stdout",
     "output_type": "stream",
     "text": [
      "3\n",
      "6\n",
      "7\n",
      "9\n",
      "12\n",
      "14\n",
      "15\n",
      "18\n",
      "21\n",
      "24\n",
      "27\n",
      "28\n",
      "30\n",
      "33\n",
      "35\n",
      "36\n",
      "39\n",
      "42\n",
      "45\n",
      "48\n",
      "49\n",
      "count is: 21\n"
     ]
    }
   ],
   "source": [
    "number = 1\n",
    "count = 0\n",
    "\n",
    "while number <= 50:\n",
    "    if number % 3 == 0 or number % 7 == 0:\n",
    "        print(number)\n",
    "        count += 1\n",
    "    number += 1\n",
    "\n",
    "print(\"count is:\", count)"
   ]
  },
  {
   "cell_type": "code",
   "execution_count": 4,
   "id": "fc325fb3-732b-4bfe-8400-0e427773f88c",
   "metadata": {},
   "outputs": [
    {
     "name": "stdout",
     "output_type": "stream",
     "text": [
      "1\n",
      "2\n",
      "3\n",
      "4\n",
      "5\n",
      "6\n",
      "7\n",
      "8\n",
      "9\n",
      "10\n"
     ]
    }
   ],
   "source": [
    "for i in range(1,11):\n",
    "    print(i)"
   ]
  },
  {
   "cell_type": "code",
   "execution_count": 8,
   "id": "75c71f04-5d1c-4aee-8adb-8cdf47af9ddd",
   "metadata": {},
   "outputs": [
    {
     "name": "stdout",
     "output_type": "stream",
     "text": [
      "[2, 4, 6, 8, 10, 12, 14, 16, 18, 20]\n"
     ]
    }
   ],
   "source": [
    "even_numbers = [x for x in range(2,21) if x % 2 == 0]\n",
    "print(even_numbers)"
   ]
  },
  {
   "cell_type": "code",
   "execution_count": 10,
   "id": "a5dc97f9-d19e-4217-bfb5-4987428bd8f9",
   "metadata": {},
   "outputs": [
    {
     "name": "stdout",
     "output_type": "stream",
     "text": [
      "[0, 1, 4, 9, 16, 25, 36, 49, 64, 81, 100]\n"
     ]
    }
   ],
   "source": [
    "square = [x**2 for x in range(11)]\n",
    "print(square)"
   ]
  },
  {
   "cell_type": "code",
   "execution_count": 11,
   "id": "8d803419-2dbc-4ac9-b77e-d22a80d7f75d",
   "metadata": {},
   "outputs": [
    {
     "name": "stdout",
     "output_type": "stream",
     "text": [
      "[0, 1, 4, 9, 16, 25, 36, 49, 64, 81, 100]\n"
     ]
    }
   ],
   "source": [
    "square = [x**2 for x in range(11)]\n",
    "print(square)"
   ]
  },
  {
   "cell_type": "code",
   "execution_count": 12,
   "id": "ead77583-99be-42cc-b85e-3258ee59cd34",
   "metadata": {},
   "outputs": [
    {
     "name": "stdout",
     "output_type": "stream",
     "text": [
      "Number: 1 → Square: 1\n",
      "Number: 2 → Square: 4\n",
      "Number: 3 → Square: 9\n",
      "Number: 4 → Square: 16\n",
      "Number: 5 → Square: 25\n",
      "Number: 6 → Square: 36\n",
      "Number: 7 → Square: 49\n",
      "Number: 8 → Square: 64\n",
      "Number: 9 → Square: 81\n",
      "Number: 10 → Square: 100\n"
     ]
    }
   ],
   "source": [
    "for x in range(1, 11):\n",
    "    print(f\"Number: {x} → Square: {x**2}\")"
   ]
  },
  {
   "cell_type": "code",
   "execution_count": 16,
   "id": "6e0e4c3a-b241-4a3e-894c-67bf5029c89d",
   "metadata": {},
   "outputs": [
    {
     "name": "stdout",
     "output_type": "stream",
     "text": [
      "all numbers that are divisible by 3 or 7 are: [0, 3, 6, 7, 9, 12, 14, 15, 18, 21, 24, 27, 28, 30, 33, 35, 36, 39, 42, 45, 48, 49]\n",
      "Total count: 22\n"
     ]
    }
   ],
   "source": [
    "#Print all numbers between 1 and 50 that are divisible by 3 or 7.\n",
    "numbers = [x for x in range(50) if x % 3 == 0 or x % 7 == 0]\n",
    "print(\"all numbers that are divisible by 3 or 7 are:\", numbers)\n",
    "print(\"Total count:\", len(numbers))"
   ]
  },
  {
   "cell_type": "code",
   "execution_count": 1,
   "id": "ae64e934-0bd1-4ba5-a885-ea050a389cdf",
   "metadata": {},
   "outputs": [
    {
     "name": "stdout",
     "output_type": "stream",
     "text": [
      " 1 x 1 = 1\n",
      " 1 x 2 = 2\n",
      " 1 x 3 = 3\n",
      " 2 x 1 = 2\n",
      " 2 x 2 = 4\n",
      " 2 x 3 = 6\n",
      " 3 x 1 = 3\n",
      " 3 x 2 = 6\n",
      " 3 x 3 = 9\n"
     ]
    }
   ],
   "source": [
    "for i in range(1,4):\n",
    "    for j in range(1,4):\n",
    "        print(f\" {i} x {j} = {i * j}\")"
   ]
  },
  {
   "cell_type": "code",
   "execution_count": 3,
   "id": "e8d2a889-fe01-4187-9097-f5ec1c45f754",
   "metadata": {},
   "outputs": [
    {
     "name": "stdout",
     "output_type": "stream",
     "text": [
      "* * * \n",
      "* * * \n",
      "* * * \n"
     ]
    }
   ],
   "source": [
    "for row in range(3):\n",
    "    for col in range(3):\n",
    "        print(\"*\", end=\" \")\n",
    "    print()    "
   ]
  },
  {
   "cell_type": "code",
   "execution_count": 5,
   "id": "e0068230-6b22-4194-a7b8-2be5591c9296",
   "metadata": {},
   "outputs": [
    {
     "name": "stdout",
     "output_type": "stream",
     "text": [
      "\n",
      "\n",
      "\n",
      "\n",
      "\n",
      "\n",
      "\n",
      "\n",
      "\n"
     ]
    }
   ],
   "source": [
    "for row in range(1,4):\n",
    "    for col in range(1,4):\n",
    "        print()"
   ]
  },
  {
   "cell_type": "code",
   "execution_count": 13,
   "id": "1dde4068-cd69-4e5b-aac6-f5960a390d20",
   "metadata": {},
   "outputs": [
    {
     "name": "stdout",
     "output_type": "stream",
     "text": [
      "(1, 1) (1, 2) (1, 3) \n",
      "(2, 1) (2, 2) (2, 3) \n",
      "(3, 1) (3, 2) (3, 3) \n"
     ]
    }
   ],
   "source": [
    "for row in range(1,4):\n",
    "    for col in range(1,4):\n",
    "        print((row, col), end=\" \")\n",
    "    print()"
   ]
  },
  {
   "cell_type": "code",
   "execution_count": 14,
   "id": "93e45b79-043e-4da9-87bd-a40c8005dad5",
   "metadata": {},
   "outputs": [
    {
     "name": "stdout",
     "output_type": "stream",
     "text": [
      "1 2 3 \n",
      "1 2 3 \n",
      "1 2 3 \n"
     ]
    }
   ],
   "source": [
    "for row in range(1,4):\n",
    "    for col in range(1,4):\n",
    "        print(col, end=\" \")\n",
    "    print()"
   ]
  },
  {
   "cell_type": "code",
   "execution_count": 15,
   "id": "877bb65c-440e-42f8-88b9-3fd37b95bc0d",
   "metadata": {},
   "outputs": [
    {
     "name": "stdout",
     "output_type": "stream",
     "text": [
      "1 \n",
      "1 2 \n",
      "1 2 3 \n",
      "1 2 3 4 \n"
     ]
    }
   ],
   "source": [
    "for row in range(1,5):\n",
    "    for col in range(1, row+1):\n",
    "        print(col, end=\" \")\n",
    "    print()    \n",
    "    "
   ]
  },
  {
   "cell_type": "code",
   "execution_count": 28,
   "id": "fcf7c948-7f1b-4901-8583-1f024e9c728f",
   "metadata": {},
   "outputs": [
    {
     "name": "stdout",
     "output_type": "stream",
     "text": [
      "* \n",
      "* * \n",
      "* * * \n",
      "* * * * \n"
     ]
    }
   ],
   "source": [
    "for row in range(1,5):\n",
    "    for col in range(1, row + 1):\n",
    "        print(\"*\", end=\" \")\n",
    "    print()"
   ]
  },
  {
   "cell_type": "code",
   "execution_count": 29,
   "id": "4d04b072-618d-4f1d-8828-09dd208c12f6",
   "metadata": {},
   "outputs": [
    {
     "name": "stdout",
     "output_type": "stream",
     "text": [
      "* * * * \n",
      "* * * \n",
      "* * \n",
      "* \n"
     ]
    }
   ],
   "source": [
    "for row in range(4, 0, -1):\n",
    "    for col in range(row):\n",
    "        print(\"*\", end=\" \")\n",
    "    print()"
   ]
  },
  {
   "cell_type": "code",
   "execution_count": 30,
   "id": "3b813339-c6e9-4304-9cfb-992c4c11c860",
   "metadata": {},
   "outputs": [
    {
     "name": "stdout",
     "output_type": "stream",
     "text": [
      "1\n",
      "2\n",
      "4\n",
      "5\n",
      "7\n",
      "8\n",
      "10\n"
     ]
    }
   ],
   "source": [
    "#Print numbers 1 to 10, but skip multiples of 3 using continue.\n",
    "for num in range(1,11):\n",
    "    if num % 3 == 0:\n",
    "        continue\n",
    "    print(num)\n"
   ]
  },
  {
   "cell_type": "code",
   "execution_count": 31,
   "id": "17f483e7-ad39-465b-a807-8b301f392556",
   "metadata": {},
   "outputs": [
    {
     "name": "stdout",
     "output_type": "stream",
     "text": [
      "1\n",
      "2\n",
      "3\n",
      "4\n",
      "5\n",
      "6\n"
     ]
    }
   ],
   "source": [
    "#Print numbers 1 to 10, but stop completely when you reach a number divisible by 7 using break.\n",
    "for num in range(1,11):\n",
    "    if num % 7 == 0:\n",
    "        break\n",
    "    print(num)"
   ]
  },
  {
   "cell_type": "code",
   "execution_count": 32,
   "id": "2eef841b-2e5f-4157-8eed-855adb70bcb2",
   "metadata": {},
   "outputs": [
    {
     "name": "stdout",
     "output_type": "stream",
     "text": [
      "Asha scored 90\n",
      "Ravi scored 85\n",
      "Karan scored 78\n"
     ]
    }
   ],
   "source": [
    "names = [\"Asha\", \"Ravi\", \"Karan\"]\n",
    "marks = [90, 85, 78]\n",
    "\n",
    "for name, mark in zip(names, marks):\n",
    "    print(name, \"scored\", mark)"
   ]
  },
  {
   "cell_type": "code",
   "execution_count": 33,
   "id": "85146f41-d3a4-4bda-b3e7-74653f75154d",
   "metadata": {},
   "outputs": [
    {
     "name": "stdout",
     "output_type": "stream",
     "text": [
      "0. Asha → 90\n",
      "1. Ravi → 85\n",
      "2. Karan → 78\n"
     ]
    }
   ],
   "source": [
    "for i, (name, mark) in enumerate(zip(names, marks)):\n",
    "    print(f\"{i}. {name} → {mark}\")"
   ]
  },
  {
   "cell_type": "code",
   "execution_count": 36,
   "id": "61877d88-f72d-4af6-b5e0-db64f4ae28ec",
   "metadata": {},
   "outputs": [
    {
     "name": "stdout",
     "output_type": "stream",
     "text": [
      "[('Asha', 90), ('Ravi', 85), ('Karan', 78)]\n"
     ]
    }
   ],
   "source": [
    "zipped= list(zip([\"Asha\", \"Ravi\", \"Karan\"], [90, 85, 78]))\n",
    "print(zipped)\n",
    " "
   ]
  },
  {
   "cell_type": "code",
   "execution_count": 1,
   "id": "0a38e086-8b10-4697-be7f-df51385d698d",
   "metadata": {},
   "outputs": [],
   "source": [
    "#for loop practice questions given by sir"
   ]
  },
  {
   "cell_type": "code",
   "execution_count": 2,
   "id": "0ef2415b-680f-44e9-985c-88cebaffc572",
   "metadata": {},
   "outputs": [
    {
     "name": "stdout",
     "output_type": "stream",
     "text": [
      "1\n",
      "2\n",
      "3\n",
      "4\n",
      "5\n",
      "6\n",
      "7\n",
      "8\n",
      "9\n",
      "10\n"
     ]
    }
   ],
   "source": [
    "#ques 1 for loop\n",
    "for i in range(1,11):\n",
    "    print(i)"
   ]
  },
  {
   "cell_type": "code",
   "execution_count": 5,
   "id": "dd3ba607-d205-44e2-91b3-2113018a691e",
   "metadata": {},
   "outputs": [
    {
     "name": "stdout",
     "output_type": "stream",
     "text": [
      "5\n",
      "10\n",
      "15\n",
      "20\n"
     ]
    }
   ],
   "source": [
    "#question 2\n",
    "for x in range(1,21):\n",
    "    if x % 5 == 0:\n",
    "        print(x)"
   ]
  },
  {
   "cell_type": "code",
   "execution_count": 8,
   "id": "03772d89-3288-4d65-8169-21f84d185cab",
   "metadata": {},
   "outputs": [
    {
     "name": "stdout",
     "output_type": "stream",
     "text": [
      "10\n",
      "11\n",
      "12\n",
      "13\n",
      "14\n",
      "15\n",
      "16\n",
      "17\n",
      "18\n",
      "19\n",
      "20\n"
     ]
    }
   ],
   "source": [
    "#question 3\n",
    "\n",
    "for i in range(10,21):\n",
    "    print(i)"
   ]
  },
  {
   "cell_type": "code",
   "execution_count": 10,
   "id": "deed42ac-b1fa-491c-86f9-ddb419eaa6dc",
   "metadata": {},
   "outputs": [
    {
     "name": "stdout",
     "output_type": "stream",
     "text": [
      "2\n",
      "4\n",
      "6\n",
      "8\n",
      "10\n"
     ]
    }
   ],
   "source": [
    "#question 4\n",
    "for i in range(2,11):\n",
    "    if i % 2 == 0:\n",
    "        print(i)"
   ]
  },
  {
   "cell_type": "code",
   "execution_count": 24,
   "id": "7dd542c1-37d9-4a7b-81a1-5513d52b5447",
   "metadata": {},
   "outputs": [
    {
     "name": "stdout",
     "output_type": "stream",
     "text": [
      "Hello\n",
      "Hello\n",
      "Hello\n",
      "Hello\n",
      "Hello\n"
     ]
    }
   ],
   "source": [
    "#question 5\n",
    "for i in range(5):\n",
    "    print(\"Hello\")"
   ]
  },
  {
   "cell_type": "code",
   "execution_count": 27,
   "id": "2feb1102-4cac-42a7-b607-840f2ecfe832",
   "metadata": {},
   "outputs": [
    {
     "name": "stdout",
     "output_type": "stream",
     "text": [
      "P\n",
      "y\n",
      "t\n",
      "h\n",
      "o\n",
      "n\n",
      "!\n"
     ]
    }
   ],
   "source": [
    "#question 6\n",
    "word = \"Python!\"\n",
    "for letter in word:\n",
    "    print(letter)"
   ]
  },
  {
   "cell_type": "code",
   "execution_count": 30,
   "id": "da053e51-194b-410e-a774-b1469cc701e9",
   "metadata": {},
   "outputs": [
    {
     "name": "stdout",
     "output_type": "stream",
     "text": [
      "1\n",
      "2\n",
      "3\n",
      "4\n"
     ]
    }
   ],
   "source": [
    "#question 7\n",
    "for i in range(1,8):\n",
    "    if i == 5:\n",
    "        break\n",
    "    print(i)"
   ]
  },
  {
   "cell_type": "code",
   "execution_count": 32,
   "id": "e14c3ef3-c811-4b6b-aae5-4697c5076f45",
   "metadata": {},
   "outputs": [
    {
     "name": "stdout",
     "output_type": "stream",
     "text": [
      "1\n",
      "2\n",
      "4\n",
      "5\n"
     ]
    }
   ],
   "source": [
    "#question 8\n",
    "for i in range(1,6):\n",
    "    if i == 3:\n",
    "        continue\n",
    "    print(i)"
   ]
  },
  {
   "cell_type": "code",
   "execution_count": 33,
   "id": "a2c1e1bb-35ec-4e02-944f-44eac7e40688",
   "metadata": {},
   "outputs": [
    {
     "name": "stdout",
     "output_type": "stream",
     "text": [
      "1\n",
      "2\n",
      "3\n",
      "4\n",
      "5\n",
      "6\n",
      "Loop complete!\n"
     ]
    }
   ],
   "source": [
    "#question 9\n",
    "for i in range(1,7):\n",
    "    print(i)\n",
    "else:\n",
    "    print(\"Loop complete!\")"
   ]
  },
  {
   "cell_type": "code",
   "execution_count": 34,
   "id": "c1219456-5dad-4a1b-9e4c-b3557d8e9cd6",
   "metadata": {},
   "outputs": [
    {
     "name": "stdout",
     "output_type": "stream",
     "text": [
      "0 a\n",
      "1 b\n",
      "2 c\n"
     ]
    }
   ],
   "source": [
    "#question 10\n",
    "my_lists = [\"a\", \"b\", \"c\"]\n",
    "for index, my_list in enumerate(my_lists):\n",
    "    print(index, my_list)"
   ]
  },
  {
   "cell_type": "code",
   "execution_count": 35,
   "id": "ab516660-5a0d-4507-a368-0be5c4361035",
   "metadata": {},
   "outputs": [
    {
     "name": "stdout",
     "output_type": "stream",
     "text": [
      "a   1\n",
      "b   2\n",
      "c   3\n"
     ]
    }
   ],
   "source": [
    "#question 11:\n",
    "letters = [\"a\", \"b\", \"c\"]\n",
    "numbers = [ 1, 2, 3 ]\n",
    "for letter, number in zip(letters, numbers):\n",
    "    print(letter, \" \", number)"
   ]
  },
  {
   "cell_type": "code",
   "execution_count": 40,
   "id": "45896bc6-83f3-4576-8d6c-00ec08649562",
   "metadata": {},
   "outputs": [
    {
     "name": "stdout",
     "output_type": "stream",
     "text": [
      "[('a', 1), ('b', 2), ('c', 3)]\n",
      "('a', 'b', 'c')\n",
      "(1, 2, 3)\n"
     ]
    }
   ],
   "source": [
    "#question 12\n",
    "letters = [\"a\", \"b\", \"c\"]\n",
    "numbers = [ 1, 2, 3 ]\n",
    "zipped = list(zip([\"a\", \"b\", \"c\"], [ 1, 2, 3 ]))\n",
    "print(zipped)\n",
    "\n",
    "letters, numbers = zip(*zipped)\n",
    "print(letters)\n",
    "print(numbers)"
   ]
  },
  {
   "cell_type": "code",
   "execution_count": 43,
   "id": "e398c103-9600-45c7-a7ed-9adc1f9cf777",
   "metadata": {},
   "outputs": [
    {
     "name": "stdout",
     "output_type": "stream",
     "text": [
      "[0, 1, 4, 9, 16, 25]\n"
     ]
    }
   ],
   "source": [
    "#question 13\n",
    "squares = [x**2 for x in range (6)]\n",
    "print(squares)"
   ]
  },
  {
   "cell_type": "code",
   "execution_count": 47,
   "id": "f6f3971a-7885-45ba-a52d-8e90e36ec3a1",
   "metadata": {},
   "outputs": [
    {
     "name": "stdout",
     "output_type": "stream",
     "text": [
      "[1, 3, 5, 7, 9]\n"
     ]
    }
   ],
   "source": [
    "#14. Use a `for` loop with list comprehension to get all odd numbers from `range(10)`.\n",
    "odd_numbers = [x for x in range(10) if x % 2 != 0]\n",
    "print(odd_numbers)"
   ]
  },
  {
   "cell_type": "code",
   "execution_count": 50,
   "id": "c150cf5c-bacb-4f74-8569-105fa6ac095c",
   "metadata": {},
   "outputs": [
    {
     "name": "stdout",
     "output_type": "stream",
     "text": [
      "1 is Odd\n",
      "2 is Even\n",
      "3 is Odd\n",
      "4 is Even\n",
      "5 is Odd\n"
     ]
    }
   ],
   "source": [
    "#1515. Write a `for` loop that prints \"Even\" or \"Odd\" for each number in `[1, 2, 3, 4, 5]`.\n",
    "numbers = [1, 2, 3, 4, 5]\n",
    "\n",
    "for x in numbers:\n",
    "    if x % 2 == 0:\n",
    "        print(f\"{x} is Even\")\n",
    "    else:\n",
    "        print(f\"{x} is Odd\")"
   ]
  },
  {
   "cell_type": "code",
   "execution_count": 51,
   "id": "326b6b0f-1c6e-4353-8bd4-2900cf659500",
   "metadata": {},
   "outputs": [],
   "source": [
    "# while loooop"
   ]
  },
  {
   "cell_type": "code",
   "execution_count": 53,
   "id": "6d0905ac-a451-4c51-8599-bb8ddac7353a",
   "metadata": {},
   "outputs": [
    {
     "name": "stdout",
     "output_type": "stream",
     "text": [
      "1\n",
      "2\n",
      "3\n",
      "4\n",
      "5\n"
     ]
    }
   ],
   "source": [
    "#answer 1\n",
    "i = 1\n",
    "while i <= 5:\n",
    "    print(i)\n",
    "    i = i+1"
   ]
  },
  {
   "cell_type": "code",
   "execution_count": 55,
   "id": "68ff92d9-9b7b-4386-be78-41c4437cf472",
   "metadata": {},
   "outputs": [
    {
     "name": "stdout",
     "output_type": "stream",
     "text": [
      "5\n",
      "4\n",
      "3\n",
      "2\n",
      "1\n"
     ]
    }
   ],
   "source": [
    "#answer 2\n",
    "i = 5\n",
    "while i >= 1:\n",
    "    print(i)\n",
    "    i = i-1"
   ]
  },
  {
   "cell_type": "code",
   "execution_count": 60,
   "id": "8a0f04dc-efd5-48c2-89c1-01831f1a3414",
   "metadata": {},
   "outputs": [
    {
     "name": "stdout",
     "output_type": "stream",
     "text": [
      "55\n"
     ]
    }
   ],
   "source": [
    "#amswer 3\n",
    "i = 1\n",
    "total = 0\n",
    "while i <= 10:\n",
    "    total += i\n",
    "    i += 1\n",
    "print(total)"
   ]
  },
  {
   "cell_type": "code",
   "execution_count": 61,
   "id": "2be1c7a4-ef8d-4b93-a5e9-0741aada048d",
   "metadata": {},
   "outputs": [
    {
     "name": "stdout",
     "output_type": "stream",
     "text": [
      "2\n",
      "4\n",
      "6\n",
      "8\n",
      "10\n"
     ]
    }
   ],
   "source": [
    "#4. Write a `while` loop that prints only even numbers less than 10.\n",
    "num = 2\n",
    "while num <= 10:\n",
    "    print(num)\n",
    "    num += 2"
   ]
  },
  {
   "cell_type": "code",
   "execution_count": 62,
   "id": "9df4132d-bc9a-464c-88fe-3f7338453312",
   "metadata": {},
   "outputs": [
    {
     "ename": "TypeError",
     "evalue": "'<=' not supported between instances of 'int' and 'tuple'",
     "output_type": "error",
     "traceback": [
      "\u001b[1;31m---------------------------------------------------------------------------\u001b[0m",
      "\u001b[1;31mTypeError\u001b[0m                                 Traceback (most recent call last)",
      "Cell \u001b[1;32mIn[62], line 3\u001b[0m\n\u001b[0;32m      1\u001b[0m \u001b[38;5;66;03m#5 5. Create a `while` loop that keeps running until the user types `\"exit\"`.\u001b[39;00m\n\u001b[0;32m      2\u001b[0m num \u001b[38;5;241m=\u001b[39m \u001b[38;5;241m1\u001b[39m\n\u001b[1;32m----> 3\u001b[0m \u001b[38;5;28;01mwhile\u001b[39;00m num \u001b[38;5;241m<\u001b[39m\u001b[38;5;241m=\u001b[39m ():\n\u001b[0;32m      4\u001b[0m     \u001b[38;5;28mprint\u001b[39m(num)\n",
      "\u001b[1;31mTypeError\u001b[0m: '<=' not supported between instances of 'int' and 'tuple'"
     ]
    }
   ],
   "source": [
    "#5 5. Create a `while` loop that keeps running until the user types `\"exit\"`.\n",
    "num = 1\n",
    "while num <= ():\n",
    "    print(num)"
   ]
  },
  {
   "cell_type": "code",
   "execution_count": 2,
   "id": "336ee67b-f9ac-4309-9893-af6486defb93",
   "metadata": {},
   "outputs": [
    {
     "name": "stdin",
     "output_type": "stream",
     "text": [
      "Type something (or 'exit' to quit)  77\n"
     ]
    },
    {
     "name": "stdout",
     "output_type": "stream",
     "text": [
      "You typed: 77\n"
     ]
    },
    {
     "name": "stdin",
     "output_type": "stream",
     "text": [
      "Type something (or 'exit' to quit)  exit\n"
     ]
    },
    {
     "name": "stdout",
     "output_type": "stream",
     "text": [
      "You typed: exit\n"
     ]
    }
   ],
   "source": [
    "user_input = \"\"\n",
    "\n",
    "while user_input.lower() != \"exit\":\n",
    "    user_input = input(\"Type something (or 'exit' to quit) \")\n",
    "    print(f\"You typed: {user_input}\")"
   ]
  },
  {
   "cell_type": "code",
   "execution_count": null,
   "id": "c80ed508-b311-495f-9d9c-d3ea12fbfe64",
   "metadata": {},
   "outputs": [],
   "source": [
    "#6. Use `while` loop and `break` to stop when a number reaches 7.\n",
    "i = 1\n",
    "\n",
    "while True:\n",
    "    if i == 7:\n",
    "        break\n",
    "    print(i)\n",
    "    i += 1"
   ]
  },
  {
   "cell_type": "code",
   "execution_count": null,
   "id": "18469c34-b0ca-43ea-bcfb-329bd16c4edf",
   "metadata": {},
   "outputs": [],
   "source": [
    "#6. Use `while` loop and `break` to stop when a number reaches 7.\n",
    "i = 1\n",
    "\n",
    "while True:\n",
    "    if i == 7:\n",
    "        break\n",
    "    print(i)\n",
    "    i += 1"
   ]
  },
  {
   "cell_type": "code",
   "execution_count": null,
   "id": "6594819e-72a1-4d1a-8f51-f555d8aa2e33",
   "metadata": {},
   "outputs": [
    {
     "name": "stdout",
     "output_type": "stream",
     "text": [
      "1\n",
      "2\n",
      "3\n"
     ]
    }
   ],
   "source": [
    "#7. Use `while` loop and `continue` to skip printing the number 4 from 1 to 5.\n",
    "i = 1\n",
    "\n",
    "while i <= 5:\n",
    "    if i == 4:\n",
    "        continue\n",
    "        i += 1\n",
    "    print(i)\n",
    "    i += 1"
   ]
  },
  {
   "cell_type": "code",
   "execution_count": 1,
   "id": "f8d392ed-d482-40bc-9c62-51a56afbe596",
   "metadata": {},
   "outputs": [
    {
     "name": "stdout",
     "output_type": "stream",
     "text": [
      "3\n",
      "6\n",
      "9\n",
      "12\n",
      "15\n"
     ]
    }
   ],
   "source": [
    "#8 8. Use a `while` loop to print the first 5 multiples of 3.\n",
    "i = 1\n",
    "\n",
    "while i <= 5:\n",
    "    print(i * 3)\n",
    "    i += 1"
   ]
  },
  {
   "cell_type": "code",
   "execution_count": 2,
   "id": "941e5b22-2f3d-4687-ab22-450d6c6316af",
   "metadata": {},
   "outputs": [
    {
     "name": "stdout",
     "output_type": "stream",
     "text": [
      "looping...\n",
      "looping...\n",
      "looping...\n"
     ]
    }
   ],
   "source": [
    "#9 9. Write a `while` loop that prints \"Looping...\" 3 times, then stops.\n",
    "i = 1\n",
    "\n",
    "while i <= 3:\n",
    "    print(\"looping...\")\n",
    "    i += 1"
   ]
  },
  {
   "cell_type": "code",
   "execution_count": null,
   "id": "f4fd6dbe-833e-49a4-8ba3-6aa5dc8c5435",
   "metadata": {},
   "outputs": [],
   "source": [
    "#10. Create a `while` loop that doubles a number starting from 1 until it exceeds 50.\n",
    "i = 1\n",
    "\n",
    "while i <= 50:\n",
    "    print(i)\n",
    "    i *= 2"
   ]
  },
  {
   "cell_type": "code",
   "execution_count": null,
   "id": "db10146c-e1e1-4416-a93a-9888b3cd42f5",
   "metadata": {},
   "outputs": [],
   "source": []
  }
 ],
 "metadata": {
  "kernelspec": {
   "display_name": "Python 3 (ipykernel)",
   "language": "python",
   "name": "python3"
  },
  "language_info": {
   "codemirror_mode": {
    "name": "ipython",
    "version": 3
   },
   "file_extension": ".py",
   "mimetype": "text/x-python",
   "name": "python",
   "nbconvert_exporter": "python",
   "pygments_lexer": "ipython3",
   "version": "3.12.4"
  }
 },
 "nbformat": 4,
 "nbformat_minor": 5
}
