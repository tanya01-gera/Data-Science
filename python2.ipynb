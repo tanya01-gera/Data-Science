{
 "cells": [
  {
   "cell_type": "code",
   "execution_count": 6,
   "id": "3f43fe8c-ace6-420b-8a11-0678abad8217",
   "metadata": {},
   "outputs": [
    {
     "name": "stdout",
     "output_type": "stream",
     "text": [
      " odd number \n"
     ]
    }
   ],
   "source": [
    "number=5\n",
    "if number % 2==0:\n",
    "    print(\" even number \")\n",
    "else:\n",
    "    print(\" odd number \")"
   ]
  },
  {
   "cell_type": "code",
   "execution_count": 8,
   "id": "3a8d4dfa-319f-41b5-b198-232c69fc9a71",
   "metadata": {},
   "outputs": [
    {
     "name": "stdin",
     "output_type": "stream",
     "text": [
      "Enter the number 3\n"
     ]
    },
    {
     "name": "stdout",
     "output_type": "stream",
     "text": [
      "odd number\n"
     ]
    }
   ],
   "source": [
    "number=int(input(\"Enter the number\"))\n",
    "if number %2==0:\n",
    "    print(\"even number\")\n",
    "else:\n",
    "    print(\"odd number\")       \n",
    "           "
   ]
  },
  {
   "cell_type": "code",
   "execution_count": 8,
   "id": "db4a831c-60c6-4d80-9550-0f84c229dac4",
   "metadata": {},
   "outputs": [
    {
     "name": "stdout",
     "output_type": "stream",
     "text": [
      "original [{'name': 'Alice', 'subjects': ['Math', 'Science', 'art']}, {'name': 'Bob', 'subjects': ['English', 'History']}]\n",
      "Shallow: [{'name': 'Alice', 'subjects': ['Math', 'Science', 'art']}, {'name': 'Bob', 'subjects': ['English', 'History']}]\n",
      "Deep: [{'name': 'Alice', 'subjects': ['Math', 'Science']}, {'name': 'Bob', 'subjects': ['English', 'History']}]\n"
     ]
    }
   ],
   "source": [
    "import copy\n",
    "\n",
    "students = [\n",
    "    {\"name\": \"Alice\", \"subjects\": [\"Math\", \"Science\"]},\n",
    "    {\"name\": \"Bob\", \"subjects\": [\"English\", \"History\"]}\n",
    "]\n",
    "students_shallow = copy.copy(students)\n",
    "students_deep = copy.deepcopy(students)\n",
    "students_shallow[0][\"subjects\"].append(\"art\")\n",
    "print(\"original\", students)\n",
    "print(\"Shallow:\", students_shallow)\n",
    "print(\"Deep:\", students_deep)"
   ]
  },
  {
   "cell_type": "code",
   "execution_count": 14,
   "id": "fe1dd56a-9fa5-42e2-ab0a-0923d6a46467",
   "metadata": {},
   "outputs": [
    {
     "name": "stdout",
     "output_type": "stream",
     "text": [
      "original: {'section': 'Fiction', 'books': ['Brave New World', 'Fahrenheit 451']}\n",
      "shallow: {'section': 'Sci-Fi', 'books': ['Brave New World', 'Fahrenheit 451']}\n",
      "deep: {'section': 'Classic', 'books': ['1984', 'Fahrenheit 451']}\n"
     ]
    }
   ],
   "source": [
    "import copy\n",
    "\n",
    "shelf = {\n",
    "    \"section\": \"Fiction\",\n",
    "    \"books\": [\"1984\", \"Brave New World\", \"Fahrenheit 451\"]\n",
    "}\n",
    "\n",
    "shelf_shallow = copy.copy(shelf)\n",
    "shelf_deep = copy.deepcopy(shelf)\n",
    "\n",
    "shelf_shallow[\"books\"].remove(\"1984\")\n",
    "shelf_shallow[\"section\"] = shelf_shallow[\"section\"].replace(\"Fiction\", \"Sci-Fi\")\n",
    "shelf_deep[\"section\"] = shelf_deep[\"section\"].replace(\"Fiction\", \"Classic\")\n",
    "shelf_deep[\"books\"].remove(\"Brave New World\")\n",
    "\n",
    "print(\"original:\", shelf)\n",
    "print(\"shallow:\", shelf_shallow)\n",
    "print(\"deep:\", shelf_deep)\n"
   ]
  },
  {
   "cell_type": "code",
   "execution_count": 24,
   "id": "3e9f8e15-6051-462a-bd99-9c7cbb55163f",
   "metadata": {},
   "outputs": [
    {
     "name": "stdout",
     "output_type": "stream",
     "text": [
      "original: [{'name': 'Alicia', 'role': 'Tech Lead', 'tasks': ['Code Review']}, {'name': 'Ben', 'role': 'Designer', 'tasks': ['Design Homepage', 'Create Icons']}]\n",
      "shallow: [{'name': 'Alicia', 'role': 'Tech Lead', 'tasks': ['Code Review']}, {'name': 'Ben', 'role': 'Designer', 'tasks': ['Design Homepage', 'Create Icons']}]\n",
      "deep: [{'name': 'Alicia', 'role': 'Developer', 'tasks': ['Code Review', 'Build API']}, {'name': 'Ben', 'role': 'Creative Director', 'tasks': ['Design Homepage', 'Create Icons', 'UX Research']}]\n"
     ]
    }
   ],
   "source": [
    "import copy\n",
    "\n",
    "team = [\n",
    "    {\n",
    "        \"name\": \"Alicia\",\n",
    "        \"role\": \"Developer\",\n",
    "        \"tasks\": [\"Code Review\", \"Build API\"]\n",
    "    },\n",
    "    {\n",
    "        \"name\": \"Ben\",\n",
    "        \"role\": \"Designer\",\n",
    "        \"tasks\": [\"Design Homepage\", \"Create Icons\"]\n",
    "    }\n",
    "]\n",
    "\n",
    "team_shallow = copy.copy(team)\n",
    "team_deep = copy.deepcopy(team)\n",
    "team_shallow[0][\"role\"]= team_shallow[0][\"role\"].replace(\"Developer\", \"Tech Lead\")\n",
    "team_shallow[0][\"tasks\"].remove(\"Build API\")\n",
    "team_deep[1][\"role\"]= team_deep[1][\"role\"].replace(\"Designer\", \"Creative Director\")\n",
    "team_deep[1][\"tasks\"].append(\"UX Research\")\n",
    "\n",
    "print(\"original:\", team)\n",
    "print(\"shallow:\", team_shallow)\n",
    "print(\"deep:\", team_deep)\n"
   ]
  },
  {
   "cell_type": "code",
   "execution_count": 26,
   "id": "9fc3ca16-9ba2-4c4b-9e15-c37c96db8694",
   "metadata": {},
   "outputs": [
    {
     "name": "stdout",
     "output_type": "stream",
     "text": [
      "red\n",
      "blue\n",
      "green\n"
     ]
    }
   ],
   "source": [
    "colors = [\"red\", \"blue\", \"green\"]\n",
    "it = iter(colors)\n",
    "\n",
    "print(next(it))\n",
    "print(next(it))\n",
    "print(next(it))\n"
   ]
  },
  {
   "cell_type": "code",
   "execution_count": 27,
   "id": "41492c3a-cce3-4669-88d6-1c1ba3ea033d",
   "metadata": {},
   "outputs": [
    {
     "name": "stdout",
     "output_type": "stream",
     "text": [
      "cat\n",
      "dog\n",
      "lion\n"
     ]
    }
   ],
   "source": [
    "animals = [\"cat\", \"dog\", \"lion\"]\n",
    "it = iter(animals)          # iterator banao\n",
    "\n",
    "print(next(it))   # cat\n",
    "print(next(it))\n",
    "print(next(it))"
   ]
  },
  {
   "cell_type": "code",
   "execution_count": 28,
   "id": "fd14c5b5-4fb9-4275-89ef-21377eb10c52",
   "metadata": {},
   "outputs": [
    {
     "ename": "StopIteration",
     "evalue": "",
     "output_type": "error",
     "traceback": [
      "\u001b[1;31m---------------------------------------------------------------------------\u001b[0m",
      "\u001b[1;31mStopIteration\u001b[0m                             Traceback (most recent call last)",
      "Cell \u001b[1;32mIn[28], line 5\u001b[0m\n\u001b[0;32m      3\u001b[0m \u001b[38;5;28mnext\u001b[39m(it)\n\u001b[0;32m      4\u001b[0m \u001b[38;5;28mnext\u001b[39m(it)\n\u001b[1;32m----> 5\u001b[0m \u001b[38;5;28mnext\u001b[39m(it)\n",
      "\u001b[1;31mStopIteration\u001b[0m: "
     ]
    }
   ],
   "source": [
    "playlist = [\"song1\", \"song2\"]\n",
    "it = iter(playlist)\n",
    "next(it)\n",
    "next(it)\n"
   ]
  },
  {
   "cell_type": "code",
   "execution_count": 14,
   "id": "6bb11467-8949-4c2f-9a92-e322b5093026",
   "metadata": {},
   "outputs": [
    {
     "name": "stdout",
     "output_type": "stream",
     "text": [
      "name : Riya\n",
      "marks : 90\n",
      "subject : Math\n",
      "Grade : A\n"
     ]
    }
   ],
   "source": [
    "student = {\n",
    "    \"name\": \"Riya\",\n",
    "    \"marks\": 87,\n",
    "    \"subject\": \"Math\"\n",
    "}\n",
    "\n",
    "student[\"Grade\"]= \"A\"\n",
    "student[\"marks\"]= 90\n",
    "\n",
    "for key, value in student.items():\n",
    "    print(key, \":\", value)"
   ]
  },
  {
   "cell_type": "code",
   "execution_count": 51,
   "id": "88d7812a-1459-4081-a11b-b0674075856b",
   "metadata": {},
   "outputs": [
    {
     "ename": "IndentationError",
     "evalue": "unindent does not match any outer indentation level (<string>, line 22)",
     "output_type": "error",
     "traceback": [
      "\u001b[1;36m  File \u001b[1;32m<string>:22\u001b[1;36m\u001b[0m\n\u001b[1;33m    return f\"Result: {result}\"\u001b[0m\n\u001b[1;37m                              ^\u001b[0m\n\u001b[1;31mIndentationError\u001b[0m\u001b[1;31m:\u001b[0m unindent does not match any outer indentation level\n"
     ]
    }
   ],
   "source": [
    "def calculator():\n",
    "    print(\"Welcome to the calculator!\")\n",
    "\n",
    "num1= float(input(\"Enter first number\"))\n",
    "operator= input(\"Enter operator(+, -, *, /): \")\n",
    "num2 = float(input(\"Enter second number\"))\n",
    "\n",
    "if operator == \"+\":\n",
    "    result = num1 + num2\n",
    "elif operator == \"-\":\n",
    "    result = num1 + num2\n",
    "elif operator == \"*\":\n",
    "   result = num1 * num2\n",
    "elif operator == \"/\":\n",
    "    if num2!=0:    \n",
    "        result = num1 / num2\n",
    "    else: \n",
    "        return \"cannot be divided by zero\"   \n",
    "else:\n",
    "    return \"Invalid Operator!\"\n",
    "    \n",
    "  return f\"Result: {result}\"\n",
    "\n",
    "print(calculator())\n"
   ]
  },
  {
   "cell_type": "code",
   "execution_count": 48,
   "id": "2f041a58-9d03-4a18-b526-d21b5b2c6aa2",
   "metadata": {},
   "outputs": [
    {
     "name": "stdout",
     "output_type": "stream",
     "text": [
      "Welcome to Simple Calculator\n"
     ]
    },
    {
     "name": "stdin",
     "output_type": "stream",
     "text": [
      "Enter first number:  7\n",
      "Enter operator (+, -, *, /):  +\n",
      "Enter second number:  7\n"
     ]
    },
    {
     "name": "stdout",
     "output_type": "stream",
     "text": [
      "Result: 14.0\n"
     ]
    }
   ],
   "source": [
    "def calculator():\n",
    "    print(\"Welcome to Simple Calculator\")\n",
    "\n",
    "    num1 = float(input(\"Enter first number: \"))\n",
    "    operator = input(\"Enter operator (+, -, *, /): \")\n",
    "    num2 = float(input(\"Enter second number: \"))\n",
    "\n",
    "    if operator == \"+\":\n",
    "        result = num1 + num2\n",
    "    elif operator == \"-\":\n",
    "        result = num1 - num2\n",
    "    elif operator == \"*\":\n",
    "        result = num1 * num2\n",
    "    elif operator == \"/\":\n",
    "        if num2 != 0:\n",
    "            result = num1 / num2\n",
    "        else:\n",
    "            return \"Cannot divide by zero!\"\n",
    "    else:\n",
    "        return \"Invalid operator!\"\n",
    "\n",
    "    return f\"Result: {result}\"\n",
    "\n",
    "# Call the function\n",
    "print(calculator())"
   ]
  },
  {
   "cell_type": "code",
   "execution_count": 5,
   "id": "7b6feb7f-f85a-4905-9aa2-cce4b8288931",
   "metadata": {},
   "outputs": [
    {
     "name": "stdout",
     "output_type": "stream",
     "text": [
      "Multiplication table for 2\n",
      "2\n",
      "4\n",
      "6\n",
      "8\n",
      "10\n",
      "12\n",
      "14\n",
      "16\n",
      "18\n",
      "20\n",
      "\n",
      "\n",
      "Multiplication table for 3\n",
      "3\n",
      "6\n",
      "9\n",
      "12\n",
      "15\n",
      "18\n",
      "21\n",
      "24\n",
      "27\n",
      "30\n",
      "\n",
      "\n",
      "**********\n",
      "Thts all\n",
      "**********\n"
     ]
    }
   ],
   "source": [
    "for num in range (2,4):\n",
    "    print(\"Multiplication table for\", num)\n",
    "    for i in range(1,11):\n",
    "        print(num*i)\n",
    "        if i ==10:\n",
    "            print(\"\\n\")\n",
    "\n",
    "else:\n",
    "    print(\"*\" * 10)\n",
    "    print(\"Thts all\")\n",
    "    print(\"*\" * 10)"
   ]
  },
  {
   "cell_type": "code",
   "execution_count": 1,
   "id": "40411ed6-b373-49dd-8a55-d0e017b42065",
   "metadata": {},
   "outputs": [],
   "source": [
    "import time"
   ]
  },
  {
   "cell_type": "code",
   "execution_count": null,
   "id": "f39146e6-4856-435e-b3b0-4a62f753e122",
   "metadata": {},
   "outputs": [],
   "source": [
    "result=time.localtime()"
   ]
  },
  {
   "cell_type": "code",
   "execution_count": null,
   "id": "228c5572-9214-425f-aa5c-b679c046618f",
   "metadata": {},
   "outputs": [],
   "source": [
    "result"
   ]
  },
  {
   "cell_type": "code",
   "execution_count": null,
   "id": "2456d91e-8a1f-4cc2-b4bf-2745e97eeccf",
   "metadata": {},
   "outputs": [],
   "source": [
    "while True:\n",
    "    result=time.localtime()\n",
    "    if result.tm_hour== and result.tm_min==:\n",
    "        print(\"wake up\")\n",
    "        break\n",
    "            time.sleep(30)"
   ]
  },
  {
   "cell_type": "code",
   "execution_count": 5,
   "id": "2f764c5b-b43e-48a4-bfa8-608f96b9a8f0",
   "metadata": {},
   "outputs": [
    {
     "name": "stdout",
     "output_type": "stream",
     "text": [
      "[10, 20, 30]\n"
     ]
    }
   ],
   "source": [
    "numbers = [10, 15, 20, 25, 30]\n",
    "even_numbers = [x for x in numbers if x % 2 == 0]\n",
    "print(even_numbers)"
   ]
  },
  {
   "cell_type": "code",
   "execution_count": 9,
   "id": "d46b9d1c-81dd-4a46-8d5c-2a34d81519a8",
   "metadata": {},
   "outputs": [
    {
     "name": "stdout",
     "output_type": "stream",
     "text": [
      "['banana', 'cherry']\n"
     ]
    }
   ],
   "source": [
    "words = [\"apple\", \"banana\", \"cherry\", \"date\"]\n",
    "five_letters = [ word for word in words if len(word) > 5]\n",
    "print(five_letters)"
   ]
  },
  {
   "cell_type": "code",
   "execution_count": 10,
   "id": "06e0da78-618c-472b-8fea-ece43e8aad4b",
   "metadata": {},
   "outputs": [
    {
     "name": "stdout",
     "output_type": "stream",
     "text": [
      "[32.0, 68.0, 86.0, 104.0]\n"
     ]
    }
   ],
   "source": [
    "temps_celsius = [0, 20, 30, 40]\n",
    "temps_farhenheit = [(c * 9/5) + 32 for c in temps_celsius]\n",
    "print(temps_farhenheit)"
   ]
  },
  {
   "cell_type": "code",
   "execution_count": 14,
   "id": "c404b6ef-9342-4670-a606-03c62092bc16",
   "metadata": {},
   "outputs": [
    {
     "name": "stdout",
     "output_type": "stream",
     "text": [
      "['Jessica']\n"
     ]
    }
   ],
   "source": [
    "names = [\"Amy\", \"Tom\", \"Jessica\", \"Raj\"]\n",
    "long_names = [ name for name in names if len(name) > 3]\n",
    "print(long_names)"
   ]
  },
  {
   "cell_type": "code",
   "execution_count": 23,
   "id": "113e3fd8-c667-4371-bbd0-22cddaeba0da",
   "metadata": {},
   "outputs": [
    {
     "name": "stdout",
     "output_type": "stream",
     "text": [
      "['Pass', 'Fail', 'Pass', 'Fail', 'Pass']\n"
     ]
    }
   ],
   "source": [
    "marks = [80, 45, 67, 30, 90]\n",
    "status = [\"Pass\" if m >= 50 else \"Fail\" for m in marks]\n",
    "print(status)"
   ]
  },
  {
   "cell_type": "code",
   "execution_count": 24,
   "id": "891db29b-9972-44fb-987b-8c69243fd0d0",
   "metadata": {},
   "outputs": [
    {
     "name": "stdout",
     "output_type": "stream",
     "text": [
      "['Amy', 'Cara']\n"
     ]
    }
   ],
   "source": [
    "names = [\"Amy\", \"Benjamin\", \"Cara\", \"Daniel\"]\n",
    "short_names = [name for name in names if len(name) <= 4]\n",
    "print(short_names)"
   ]
  },
  {
   "cell_type": "code",
   "execution_count": 25,
   "id": "3d980cac-911f-4b8b-84c8-87aa9213622c",
   "metadata": {},
   "outputs": [
    {
     "name": "stdout",
     "output_type": "stream",
     "text": [
      "['AMY', 'CARA']\n"
     ]
    }
   ],
   "source": [
    "names = [\"Amy\", \"Benjamin\", \"Cara\", \"Daniel\"]\n",
    "short_names = [name.upper() for name in names if len(name) <=4] \n",
    "print(short_names)"
   ]
  },
  {
   "cell_type": "code",
   "execution_count": 31,
   "id": "9f44ba40-95e6-4a46-a043-a78c5ce966ff",
   "metadata": {},
   "outputs": [
    {
     "name": "stdout",
     "output_type": "stream",
     "text": [
      "[2, 4, 6, 8]\n"
     ]
    }
   ],
   "source": [
    "nums = [1, 2, 3, 4, 5, 6, 7, 8]\n",
    "even_numbers = [num for num in nums if num % 2 == 0]\n",
    "print(even_numbers)"
   ]
  },
  {
   "cell_type": "code",
   "execution_count": 33,
   "id": "425a527d-2f61-4125-bcd2-f2c0c0dbfa0b",
   "metadata": {},
   "outputs": [
    {
     "name": "stdout",
     "output_type": "stream",
     "text": [
      "[4, 16, 36, 64]\n"
     ]
    }
   ],
   "source": [
    "nums = [1, 2, 3, 4, 5, 6, 7, 8]\n",
    "squares = [num**2 for num in nums if num % 2 == 0]\n",
    "print(squares)"
   ]
  },
  {
   "cell_type": "code",
   "execution_count": 42,
   "id": "9d44bd3c-bf1b-41f9-95f8-9fdfee97b9e5",
   "metadata": {},
   "outputs": [
    {
     "name": "stdout",
     "output_type": "stream",
     "text": [
      "['e', 'g', 'h']\n"
     ]
    }
   ],
   "source": [
    "words = [\"elephant\", \"dog\", \"giraffe\", \"cat\", \"hippopotamus\"]\n",
    "first_letters= [word[0] for word in words if len(word) > 5]\n",
    "print(first_letters)"
   ]
  },
  {
   "cell_type": "code",
   "execution_count": 43,
   "id": "093e5486-f621-40af-bb02-4ecfe389a469",
   "metadata": {},
   "outputs": [
    {
     "name": "stdout",
     "output_type": "stream",
     "text": [
      "['e', 'g', 'h']\n"
     ]
    }
   ],
   "source": [
    "words = [\"elephant\", \"dog\", \"giraffe\", \"cat\", \"hippopotamus\"]\n",
    "first_letters = [word[0] for word in words if len(word) > 5]\n",
    "print(first_letters)"
   ]
  },
  {
   "cell_type": "code",
   "execution_count": 46,
   "id": "3ab18180-de1a-4d29-ab1b-d9bb6c1f28bf",
   "metadata": {},
   "outputs": [
    {
     "name": "stdout",
     "output_type": "stream",
     "text": [
      "['nus', 'yks']\n"
     ]
    }
   ],
   "source": [
    "words = [\"sun\", \"moon\", \"galaxy\", \"sky\", \"star\", \"universe\"]\n",
    "reversed_form = [word[::-1] for word in words if len(word) <= 3]\n",
    "print(reversed_form)"
   ]
  },
  {
   "cell_type": "code",
   "execution_count": 47,
   "id": "5b5e7c07-a0d7-4f02-ac28-aa4700454838",
   "metadata": {},
   "outputs": [
    {
     "ename": "SyntaxError",
     "evalue": "invalid syntax (2865850795.py, line 2)",
     "output_type": "error",
     "traceback": [
      "\u001b[1;36m  Cell \u001b[1;32mIn[47], line 2\u001b[1;36m\u001b[0m\n\u001b[1;33m    divisible_numbers = [num for num in numbers if number / 2 then *]\u001b[0m\n\u001b[1;37m                                                              ^\u001b[0m\n\u001b[1;31mSyntaxError\u001b[0m\u001b[1;31m:\u001b[0m invalid syntax\n"
     ]
    }
   ],
   "source": [
    "numbers = [3, 8, 15, 22, 7, 14, 29, 30]\n",
    "divisible_numbers = [num for num in numbers if number / 2 then *]\n",
    "print(divisble_numbers)"
   ]
  },
  {
   "cell_type": "code",
   "execution_count": 48,
   "id": "fe4c190b-3784-4cb4-bb09-fea8320efc1c",
   "metadata": {},
   "outputs": [
    {
     "name": "stdout",
     "output_type": "stream",
     "text": [
      "[8, 22, 14, 60]\n"
     ]
    }
   ],
   "source": [
    "numbers = [3, 8, 15, 22, 7, 14, 29, 30]\n",
    "\n",
    "divisible_numbers = [num * 2 if num % 3 == 0 else num for num in numbers if num % 2 == 0]\n",
    "\n",
    "print(divisible_numbers)"
   ]
  },
  {
   "cell_type": "code",
   "execution_count": 3,
   "id": "4c2bf1e5-1eeb-4167-9386-a13f1df46a34",
   "metadata": {},
   "outputs": [
    {
     "name": "stdout",
     "output_type": "stream",
     "text": [
      "P\n",
      "y\n",
      "t\n",
      "h\n",
      "o\n",
      "n\n"
     ]
    }
   ],
   "source": [
    "word = \"Python\"\n",
    "for letter in word:\n",
    "    print(letter)"
   ]
  },
  {
   "cell_type": "code",
   "execution_count": 4,
   "id": "59eef521-ab93-4e7d-bb05-2d914b4bd546",
   "metadata": {},
   "outputs": [
    {
     "name": "stdout",
     "output_type": "stream",
     "text": [
      "R\n",
      "a\n",
      "d\n",
      "h\n",
      "a\n",
      " \n",
      "i\n",
      "s\n",
      " \n",
      "m\n",
      "y\n",
      " \n",
      "j\n",
      "a\n",
      "a\n",
      "n\n"
     ]
    }
   ],
   "source": [
    "sentence = \"Radha is my jaan\"\n",
    "for word in sentence:\n",
    "    print(word)"
   ]
  },
  {
   "cell_type": "code",
   "execution_count": 5,
   "id": "c5a819d8-936b-48c3-8283-9af5072a1681",
   "metadata": {},
   "outputs": [
    {
     "name": "stdout",
     "output_type": "stream",
     "text": [
      "0\n",
      "1\n",
      "2\n",
      "3\n",
      "4\n"
     ]
    }
   ],
   "source": [
    "for number in range (5):\n",
    "    print(number)"
   ]
  },
  {
   "cell_type": "code",
   "execution_count": 6,
   "id": "a45294b3-71c1-4db4-808c-7e06cdf80965",
   "metadata": {},
   "outputs": [],
   "source": [
    "students_score = [20,33,95,34,55,67,89,58]"
   ]
  },
  {
   "cell_type": "code",
   "execution_count": 9,
   "id": "a4e40b0c-9a56-455b-a124-e9c7a0d7d3e3",
   "metadata": {},
   "outputs": [
    {
     "name": "stdout",
     "output_type": "stream",
     "text": [
      "20\n",
      "33\n",
      "95\n",
      "34\n",
      "55\n",
      "67\n",
      "89\n",
      "58\n"
     ]
    }
   ],
   "source": [
    "for marks in students_score:\n",
    "    \n",
    "    print(marks)"
   ]
  },
  {
   "cell_type": "code",
   "execution_count": 10,
   "id": "255ae227-e376-40cd-9e0e-7d04f4aa20fb",
   "metadata": {},
   "outputs": [
    {
     "name": "stdout",
     "output_type": "stream",
     "text": [
      "maza nahi aya\n",
      "maza nahi aya\n",
      "topper\n",
      "maza nahi aya\n",
      "maza nahi aya\n",
      "average\n",
      "outstanding\n",
      "maza nahi aya\n"
     ]
    }
   ],
   "source": [
    "for marks in students_score:\n",
    "    if marks > 90:\n",
    "        print(\"topper\")\n",
    "    elif marks >= 80:\n",
    "        print(\"outstanding\")\n",
    "    elif marks >= 70:\n",
    "        print(\"good\")\n",
    "    elif marks >= 60:\n",
    "        print(\"average\")\n",
    "    else:\n",
    "        print(\"maza nahi aya\")"
   ]
  },
  {
   "cell_type": "code",
   "execution_count": 17,
   "id": "1c778432-370f-4ee0-a72f-4a0f21545b14",
   "metadata": {},
   "outputs": [
    {
     "name": "stdout",
     "output_type": "stream",
     "text": [
      "1\n",
      "2\n",
      "3\n"
     ]
    }
   ],
   "source": [
    "numbers = [1, 2, 3, 4, 5]\n",
    "for n in numbers:\n",
    "    print(n)\n",
    "    if n==3:\n",
    "        break"
   ]
  },
  {
   "cell_type": "code",
   "execution_count": 18,
   "id": "a2da8931-c873-41d3-8497-84dd42871127",
   "metadata": {},
   "outputs": [
    {
     "name": "stdout",
     "output_type": "stream",
     "text": [
      "Multiplication table for 2\n",
      "2\n",
      "4\n",
      "6\n",
      "8\n",
      "10\n",
      "12\n",
      "14\n",
      "16\n",
      "18\n",
      "20\n",
      "\n",
      "\n",
      "Multiplication table for 3\n",
      "3\n",
      "6\n",
      "9\n",
      "12\n",
      "15\n",
      "18\n",
      "21\n",
      "24\n",
      "27\n",
      "30\n",
      "\n",
      "\n",
      "Multiplication table for 4\n",
      "4\n",
      "8\n",
      "12\n",
      "16\n",
      "20\n",
      "24\n",
      "28\n",
      "32\n",
      "36\n",
      "40\n",
      "\n",
      "\n",
      "******************************\n",
      "Thats all\n",
      "******************************\n"
     ]
    }
   ],
   "source": [
    "for num in range(2,5):\n",
    "    print(\"Multiplication table for\",num)\n",
    "    for i in range(1,11):\n",
    "        print(num*i)\n",
    "        if i ==10:\n",
    "            print( \"\\n\" )\n",
    "else:\n",
    "    print(\"*\" * 30)\n",
    "    print(\"Thats all\")\n",
    "    print(\"*\" * 30)"
   ]
  },
  {
   "cell_type": "code",
   "execution_count": 29,
   "id": "ab5afa18-9170-426d-b2ff-015e4c2c0bb4",
   "metadata": {},
   "outputs": [
    {
     "name": "stdout",
     "output_type": "stream",
     "text": [
      "multiplication table for: 5\n",
      "5\n",
      "10\n",
      "15\n",
      "20\n",
      "25\n",
      "30\n",
      "35\n",
      "40\n",
      "45\n",
      "50\n",
      "multiplication table for: 6\n",
      "6\n",
      "12\n",
      "18\n",
      "24\n",
      "30\n",
      "36\n",
      "42\n",
      "48\n",
      "54\n",
      "60\n",
      "/n\n"
     ]
    }
   ],
   "source": [
    "for num in range(5,7):\n",
    "    print(\"multiplication table for:\", num)\n",
    "    for i in range(1,11):\n",
    "        print(num*i)\n",
    "if i==10:\n",
    "        print( \"/n\" )"
   ]
  },
  {
   "cell_type": "code",
   "execution_count": 33,
   "id": "fe6fb7aa-dfee-45b4-aebc-b3c279988eed",
   "metadata": {},
   "outputs": [
    {
     "name": "stdin",
     "output_type": "stream",
     "text": [
      "Enter the number 10\n"
     ]
    },
    {
     "name": "stdout",
     "output_type": "stream",
     "text": [
      "10 X 1 = 10\n",
      "10 X 2 = 20\n",
      "10 X 3 = 30\n",
      "10 X 4 = 40\n",
      "10 X 5 = 50\n",
      "10 X 6 = 60\n",
      "10 X 7 = 70\n",
      "10 X 8 = 80\n",
      "10 X 9 = 90\n",
      "10 X 10 = 100\n"
     ]
    }
   ],
   "source": [
    "num= int(input(\"Enter the number\"))\n",
    "for i in range(1,11):\n",
    "         print(num, \"X\", i, \"=\", num*i)"
   ]
  },
  {
   "cell_type": "code",
   "execution_count": 34,
   "id": "b7be1656-e362-4e2a-9e74-7365060bd70f",
   "metadata": {},
   "outputs": [
    {
     "name": "stdout",
     "output_type": "stream",
     "text": [
      "1 7\n",
      "1 8\n",
      "1 9\n",
      "1 10\n",
      "1 11\n",
      "2 7\n",
      "2 8\n",
      "2 9\n",
      "2 10\n",
      "2 11\n",
      "3 7\n",
      "3 8\n",
      "3 9\n",
      "3 10\n",
      "3 11\n"
     ]
    }
   ],
   "source": [
    "for i in range(1,4):\n",
    "    for j in range(7,12):\n",
    "        print(i,j)"
   ]
  },
  {
   "cell_type": "code",
   "execution_count": null,
   "id": "b292efe6-3cc8-4774-9860-c319582210a6",
   "metadata": {},
   "outputs": [],
   "source": [
    "import time\n",
    "\n",
    "\n",
    "while True:\n",
    "    result = time.localtime()\n",
    "    print(f\"Checking time...{result.tm_hour}:{result.tm_min}\")\n",
    "    \n",
    "    if result.tm_hour == 10 and result.tm_min == 29:\n",
    "        print(\"Wake up buddy\")\n",
    "        break\n",
    "\n",
    "    time.sleep(60)\n",
    "    break"
   ]
  },
  {
   "cell_type": "code",
   "execution_count": 39,
   "id": "1f15557c-9165-4f6f-a922-3a3c8fb5cb9c",
   "metadata": {},
   "outputs": [],
   "source": [
    "result = time.localtime"
   ]
  },
  {
   "cell_type": "code",
   "execution_count": 37,
   "id": "436bf595-3d78-4f23-bb59-78919fec5a5c",
   "metadata": {},
   "outputs": [
    {
     "data": {
      "text/plain": [
       "<function time.localtime>"
      ]
     },
     "execution_count": 37,
     "metadata": {},
     "output_type": "execute_result"
    }
   ],
   "source": []
  },
  {
   "cell_type": "code",
   "execution_count": null,
   "id": "f5e664d6-27ba-4df0-8205-cc8344cc099a",
   "metadata": {},
   "outputs": [],
   "source": [
    "student_name= [\"Tanya\", \"Nishtha\"]\n",
    "student_mark= [54, 88]\n",
    "student_detail = list(zip(student_name, student_mark))\n",
    "print(student_detail)"
   ]
  },
  {
   "cell_type": "code",
   "execution_count": null,
   "id": "2bec4054-4f7d-4831-8d30-fea31254fc00",
   "metadata": {},
   "outputs": [],
   "source": []
  },
  {
   "cell_type": "code",
   "execution_count": null,
   "id": "2ccf0637-86f1-42f9-8d8c-75b95d6ad0c2",
   "metadata": {},
   "outputs": [],
   "source": []
  },
  {
   "cell_type": "code",
   "execution_count": null,
   "id": "6b88f5f9-2e17-490b-9d97-08941a5a8c57",
   "metadata": {},
   "outputs": [],
   "source": []
  }
 ],
 "metadata": {
  "kernelspec": {
   "display_name": "Python 3 (ipykernel)",
   "language": "python",
   "name": "python3"
  },
  "language_info": {
   "codemirror_mode": {
    "name": "ipython",
    "version": 3
   },
   "file_extension": ".py",
   "mimetype": "text/x-python",
   "name": "python",
   "nbconvert_exporter": "python",
   "pygments_lexer": "ipython3",
   "version": "3.12.4"
  }
 },
 "nbformat": 4,
 "nbformat_minor": 5
}
