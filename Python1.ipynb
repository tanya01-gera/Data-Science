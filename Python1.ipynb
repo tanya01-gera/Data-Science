{
 "cells": [
  {
   "cell_type": "code",
   "execution_count": 2,
   "id": "14e7f2bd-5b74-47ff-97cd-71ba92c2c8b3",
   "metadata": {},
   "outputs": [
    {
     "name": "stdout",
     "output_type": "stream",
     "text": [
      "[1, 2, 3, [4, 5]]\n"
     ]
    }
   ],
   "source": [
    "# adding in list\n",
    "my_list = [1, 2, 3]\n",
    "my_list.append([4, 5])\n",
    "print(my_list)"
   ]
  },
  {
   "cell_type": "code",
   "execution_count": 3,
   "id": "69460f16-c5bc-4348-a9fe-a4b8b01dcf11",
   "metadata": {},
   "outputs": [
    {
     "name": "stdout",
     "output_type": "stream",
     "text": [
      "[1, 2, 3, 4, 5]\n"
     ]
    }
   ],
   "source": [
    "#adding in list, but a better way\n",
    "my_list = [1, 2, 3]\n",
    "my_list.extend([4, 5])\n",
    "print(my_list)"
   ]
  },
  {
   "cell_type": "code",
   "execution_count": 6,
   "id": "4c7a3b7b-8fa4-4e21-afbb-e4628c029c90",
   "metadata": {},
   "outputs": [
    {
     "name": "stdout",
     "output_type": "stream",
     "text": [
      "<class 'tuple'>\n"
     ]
    }
   ],
   "source": [
    "#making a tuple with single element\n",
    "a=(\"b\",)\n",
    "print(type(a))"
   ]
  },
  {
   "cell_type": "code",
   "execution_count": 7,
   "id": "7629ac4d-0301-49d0-8024-a66130766a90",
   "metadata": {
    "scrolled": true
   },
   "outputs": [
    {
     "name": "stdout",
     "output_type": "stream",
     "text": [
      "{3}\n"
     ]
    }
   ],
   "source": [
    "#set examples\n",
    "a = {1, 2, 3}\n",
    "b = {3, 4, 5}\n",
    "print(a & b)"
   ]
  },
  {
   "cell_type": "code",
   "execution_count": 8,
   "id": "f17a7c52-bae8-4ba2-86f6-1726afe5d957",
   "metadata": {},
   "outputs": [
    {
     "name": "stdout",
     "output_type": "stream",
     "text": [
      "{3}\n"
     ]
    }
   ],
   "source": [
    "#more set examples\n",
    "a = {1, 2, 3}\n",
    "b = {3, 4, 5}\n",
    "print(a.intersection(b))"
   ]
  },
  {
   "cell_type": "code",
   "execution_count": 9,
   "id": "3227098f-428e-4a44-9676-dad108134438",
   "metadata": {},
   "outputs": [],
   "source": [
    "info = {\"name\": \"Aanchal\", \"skills\": [\"Python\", \"Excel\", \"AI\"]}"
   ]
  },
  {
   "cell_type": "code",
   "execution_count": 13,
   "id": "7dfb74da-e801-4a53-af9b-6fbe9f612223",
   "metadata": {},
   "outputs": [
    {
     "ename": "NameError",
     "evalue": "name 'info' is not defined",
     "output_type": "error",
     "traceback": [
      "\u001b[1;31m---------------------------------------------------------------------------\u001b[0m",
      "\u001b[1;31mNameError\u001b[0m                                 Traceback (most recent call last)",
      "Cell \u001b[1;32mIn[13], line 2\u001b[0m\n\u001b[0;32m      1\u001b[0m \u001b[38;5;66;03m#more questions\u001b[39;00m\n\u001b[1;32m----> 2\u001b[0m info[\u001b[38;5;124m\"\u001b[39m\u001b[38;5;124mskills\u001b[39m\u001b[38;5;124m\"\u001b[39m]\u001b[38;5;241m.\u001b[39mappend(\u001b[38;5;124m\"\u001b[39m\u001b[38;5;124mSQL\u001b[39m\u001b[38;5;124m\"\u001b[39m)\n\u001b[0;32m      3\u001b[0m \u001b[38;5;28mprint\u001b[39m(info)\n",
      "\u001b[1;31mNameError\u001b[0m: name 'info' is not defined"
     ]
    }
   ],
   "source": [
    "#more questions\n",
    "info[\"skills\"].append(\"SQL\")\n",
    "print(info)"
   ]
  },
  {
   "cell_type": "code",
   "execution_count": 24,
   "id": "05332c22-26f2-45f2-babc-3a7efa648e3f",
   "metadata": {},
   "outputs": [
    {
     "name": "stdout",
     "output_type": "stream",
     "text": [
      "('Tanya', 'Nishtha', 'Aanchal')\n"
     ]
    }
   ],
   "source": [
    "#list to tuple\n",
    "names=(\"Tanya\", \"Nishtha\")\n",
    "new_name= (\"Aanchal\")\n",
    "new_list=list(names)\n",
    "new_list.append(new_name)\n",
    "names=tuple(new_list)\n",
    "print(names)"
   ]
  },
  {
   "cell_type": "code",
   "execution_count": 1,
   "id": "917d2b51-36b5-496a-b061-341932ed1e88",
   "metadata": {},
   "outputs": [],
   "source": [
    "numbers=[1,2,3,4,5,6,6,6,7,8,8,8,9,10,0,2,2,4,4,5,5,6,6,7,76,87,67,67,54,34,23,23,3]"
   ]
  },
  {
   "cell_type": "code",
   "execution_count": 4,
   "id": "c993a093-ffa5-4321-b66d-9176f8e25008",
   "metadata": {},
   "outputs": [],
   "source": [
    "remove_duplicates=set(numbers)"
   ]
  },
  {
   "cell_type": "code",
   "execution_count": 5,
   "id": "4b139be2-3e95-422d-81cb-b5ece92beceb",
   "metadata": {},
   "outputs": [
    {
     "data": {
      "text/plain": [
       "{0, 1, 2, 3, 4, 5, 6, 7, 8, 9, 10, 23, 34, 54, 67, 76, 87}"
      ]
     },
     "execution_count": 5,
     "metadata": {},
     "output_type": "execute_result"
    }
   ],
   "source": [
    "remove_duplicates"
   ]
  },
  {
   "cell_type": "code",
   "execution_count": 10,
   "id": "813df3ba-3a89-40df-86cb-9c51a9699c76",
   "metadata": {},
   "outputs": [
    {
     "name": "stdout",
     "output_type": "stream",
     "text": [
      "[0, 1, 2, 3, 4, 5, 6, 7, 8, 9, 10, 67, 76, 34, 23, 54, 87]\n"
     ]
    }
   ],
   "source": [
    "numbers=list(remove_duplicates)\n",
    "print(numbers)"
   ]
  },
  {
   "cell_type": "code",
   "execution_count": 1,
   "id": "ad80bec6-ea0c-4a09-ae1f-61f7f291be91",
   "metadata": {},
   "outputs": [
    {
     "name": "stdout",
     "output_type": "stream",
     "text": [
      "{'fries', 'chilly potato', 'rolls'}\n"
     ]
    }
   ],
   "source": [
    "#accessing elements using loop\n",
    "food = {\"chilly potato\", \"fries\", \"rolls\"}\n",
    "print(food)"
   ]
  },
  {
   "cell_type": "code",
   "execution_count": 2,
   "id": "d3968e74-2978-449c-842e-8a71ba386517",
   "metadata": {},
   "outputs": [
    {
     "name": "stdout",
     "output_type": "stream",
     "text": [
      "False\n"
     ]
    }
   ],
   "source": [
    "#checking if something exist or not\n",
    "print(\"chilly potato\" not in food)"
   ]
  },
  {
   "cell_type": "code",
   "execution_count": 4,
   "id": "6f0a25fd-b9a7-4bfe-a4fb-76188a09eabb",
   "metadata": {},
   "outputs": [
    {
     "name": "stdout",
     "output_type": "stream",
     "text": [
      "{'fries', 'chilly potato', 'rolls', 'Manchurian'}\n"
     ]
    }
   ],
   "source": [
    "#adding\n",
    "food.add(\"Manchurian\")\n",
    "print(food)"
   ]
  },
  {
   "cell_type": "code",
   "execution_count": 10,
   "id": "274c320c-4e6c-4dea-af42-fded5a6229fc",
   "metadata": {},
   "outputs": [
    {
     "name": "stdout",
     "output_type": "stream",
     "text": [
      "{'fries', 'chilly potato', 'Manchurian', 'chilly paneer', 'kashmiri apple', 'rolls'}\n"
     ]
    }
   ],
   "source": [
    "#set\n",
    "food = {\"chilly potato\", \"fries\", \"rolls\"}\n",
    "food.add(\"Manchurian\")\n",
    "food.update({\"chilly paneer\", \"kashmiri apple\"})\n",
    "print(food)"
   ]
  },
  {
   "cell_type": "code",
   "execution_count": 13,
   "id": "7f48257f-bb5f-411c-a3d4-cdf673c28b9b",
   "metadata": {},
   "outputs": [
    {
     "name": "stdout",
     "output_type": "stream",
     "text": [
      "{'Manchurian', 'Afgaani Chicken', 'rolls', 'fries', 'chilly potato', 'chilly paneer', 'Bhatti Chicken', 'kashmiri apple', 'Butter Chicken'}\n"
     ]
    }
   ],
   "source": [
    "#adding\n",
    "non_veg={\"Butter Chicken\", \"Afgaani Chicken\", \"Bhatti Chicken\"}\n",
    "food.update(non_veg)\n",
    "print(food)"
   ]
  },
  {
   "cell_type": "code",
   "execution_count": 14,
   "id": "5bf5db43-067d-49d5-bbbc-b70e328608a6",
   "metadata": {},
   "outputs": [
    {
     "name": "stdout",
     "output_type": "stream",
     "text": [
      "{'Manchurian', 'rolls', 'fries', 'chilly potato', 'chilly paneer', 'Bhatti Chicken', 'kashmiri apple', 'Butter Chicken'}\n"
     ]
    }
   ],
   "source": [
    "#removing\n",
    "food.remove(\"Afgaani Chicken\")\n",
    "print(food)"
   ]
  },
  {
   "cell_type": "code",
   "execution_count": 15,
   "id": "6d4ce4e9-e41b-4d52-a3cf-ec6fbeedbf35",
   "metadata": {},
   "outputs": [
    {
     "name": "stdout",
     "output_type": "stream",
     "text": [
      "{'Manchurian', 'rolls', 'fries', 'chilly paneer', 'Bhatti Chicken', 'kashmiri apple', 'Butter Chicken'}\n"
     ]
    }
   ],
   "source": [
    "#using discard\n",
    "food.discard(\"chilly potato\")\n",
    "print(food)"
   ]
  },
  {
   "cell_type": "code",
   "execution_count": 18,
   "id": "7946cc43-ef55-4910-a1ab-bbb2489c227a",
   "metadata": {},
   "outputs": [
    {
     "name": "stdout",
     "output_type": "stream",
     "text": [
      "{1, 3, 5, 7, 9, 11}\n",
      "{5}\n"
     ]
    }
   ],
   "source": [
    "#union\n",
    "set1={5,7,9,11}\n",
    "set2={5,3,1}\n",
    "print(set1.union(set2))\n",
    "print(set1.intersection(set2))"
   ]
  },
  {
   "cell_type": "code",
   "execution_count": 20,
   "id": "5158eaaf-39c9-4184-8536-94edf647c56a",
   "metadata": {},
   "outputs": [
    {
     "name": "stdout",
     "output_type": "stream",
     "text": [
      "{1, 3, 7, 9, 11}\n"
     ]
    }
   ],
   "source": [
    "#sym_difference\n",
    "print(set1.symmetric_difference(set2))"
   ]
  },
  {
   "cell_type": "code",
   "execution_count": 21,
   "id": "a09e1b21-0204-4ed4-9a16-d1d8eef137d1",
   "metadata": {},
   "outputs": [
    {
     "name": "stdout",
     "output_type": "stream",
     "text": [
      "set()\n"
     ]
    }
   ],
   "source": [
    "#using clear\n",
    "food.clear()\n",
    "print(food)"
   ]
  },
  {
   "cell_type": "code",
   "execution_count": 22,
   "id": "9b6b6908-cf76-40c9-97ad-699d76829131",
   "metadata": {},
   "outputs": [
    {
     "name": "stdout",
     "output_type": "stream",
     "text": [
      "set()\n"
     ]
    }
   ],
   "source": [
    "#making a copy\n",
    "food.copy\n",
    "print(food)"
   ]
  },
  {
   "cell_type": "code",
   "execution_count": 6,
   "id": "f78daaa8-c9cd-42c3-b49b-5d4b393f1d30",
   "metadata": {},
   "outputs": [
    {
     "name": "stdout",
     "output_type": "stream",
     "text": [
      "Tanya\n"
     ]
    }
   ],
   "source": [
    "#dictionary questions\n",
    "my_dict = {\n",
    "    \"name\": \"Tanya\",\n",
    "    \"age\": \"26\",\n",
    "    \"city\": \"Delhi\"\n",
    "}\n",
    "print(my_dict[\"name\"])"
   ]
  },
  {
   "cell_type": "code",
   "execution_count": 9,
   "id": "ee4d99d8-daf1-4058-af2c-ae85a42f27c2",
   "metadata": {},
   "outputs": [
    {
     "name": "stdout",
     "output_type": "stream",
     "text": [
      "Ravi\n"
     ]
    }
   ],
   "source": [
    "#dictionary questions\n",
    "person = {\n",
    "    \"first_name\": \"Ravi\",\n",
    "    \"last_name\": \"Sharma\",\n",
    "    \"age\": 30\n",
    "}\n",
    "print(person[\"first_name\"])"
   ]
  },
  {
   "cell_type": "code",
   "execution_count": 10,
   "id": "31ce700b-ac48-4769-9a66-290d3d714b4a",
   "metadata": {},
   "outputs": [
    {
     "name": "stdout",
     "output_type": "stream",
     "text": [
      "{'first_name': 'Ravi', 'last_name': 'Sharma', 'age': 30, 'hobby': 'cricket'}\n"
     ]
    }
   ],
   "source": [
    "#adding a key\n",
    "person[\"hobby\"]= \"cricket\"\n",
    "print(person)"
   ]
  },
  {
   "cell_type": "code",
   "execution_count": 11,
   "id": "a700dd78-d2a6-4372-879d-e6788e7d963b",
   "metadata": {},
   "outputs": [
    {
     "name": "stdout",
     "output_type": "stream",
     "text": [
      "{'first_name': 'Ravi', 'last_name': 'Sharma', 'hobby': 'cricket'}\n"
     ]
    }
   ],
   "source": [
    "#deleting\n",
    "del person[\"age\"]\n",
    "print(person)"
   ]
  },
  {
   "cell_type": "code",
   "execution_count": 20,
   "id": "19790537-1b4b-49e0-9bef-44d396a5ffeb",
   "metadata": {},
   "outputs": [
    {
     "name": "stdout",
     "output_type": "stream",
     "text": [
      "first_name\n",
      "last_name\n",
      "hobby\n"
     ]
    }
   ],
   "source": [
    "#prints each key\n",
    "for key in person:\n",
    "    print(key)"
   ]
  },
  {
   "cell_type": "code",
   "execution_count": 23,
   "id": "7c24c151-7b35-4543-9ed8-0b61b4cc1092",
   "metadata": {},
   "outputs": [
    {
     "name": "stdout",
     "output_type": "stream",
     "text": [
      "Ravi\n",
      "Sharma\n",
      "cricket\n"
     ]
    }
   ],
   "source": [
    "#prints each value\n",
    "for value in person.values():\n",
    "    print(value)"
   ]
  },
  {
   "cell_type": "code",
   "execution_count": 24,
   "id": "7abe4e9f-19a2-4351-a61f-659c32998c0b",
   "metadata": {},
   "outputs": [
    {
     "name": "stdout",
     "output_type": "stream",
     "text": [
      "first_name : Ravi\n",
      "last_name : Sharma\n",
      "hobby : cricket\n"
     ]
    }
   ],
   "source": [
    "#prints key and value in pair\n",
    "for key, value in person.items():\n",
    "    print(key, \":\", value)"
   ]
  },
  {
   "cell_type": "code",
   "execution_count": 27,
   "id": "769bb53d-8656-46b8-9b33-7afd8dead626",
   "metadata": {},
   "outputs": [
    {
     "name": "stdout",
     "output_type": "stream",
     "text": [
      "hobby found!\n"
     ]
    }
   ],
   "source": [
    "#checking if a key exits\n",
    "if \"hobby\" in person:\n",
    "    print(\"hobby found!\")"
   ]
  },
  {
   "cell_type": "code",
   "execution_count": 36,
   "id": "273dfbcb-4f7b-4dc0-84eb-a25325f51550",
   "metadata": {},
   "outputs": [
    {
     "name": "stdout",
     "output_type": "stream",
     "text": [
      "{'title': 'Atomic Habits', 'author': 'James Clear', 'pages': 320}\n"
     ]
    }
   ],
   "source": [
    "#creating a dictionary\n",
    "my_dict= {\n",
    "    \"book\": {\n",
    "        \"title\": \"Atomic Habits\",\n",
    "        \"author\": \"James Clear\",\n",
    "        \"pages\": 320\n",
    "    }\n",
    "}\n",
    "print(my_dict[\"book\"])"
   ]
  },
  {
   "cell_type": "code",
   "execution_count": 40,
   "id": "5e881f2c-7ccb-40c2-b924-3e7df15f3f10",
   "metadata": {},
   "outputs": [
    {
     "name": "stdout",
     "output_type": "stream",
     "text": [
      "{'title': 'Atomic Habits', 'author': 'James Clear', 'pages': 320, 'rating': 4.8}\n"
     ]
    }
   ],
   "source": [
    "#adding\n",
    "my_dict= {\n",
    "    \"book\": {\n",
    "        \"title\": \"Atomic Habits\",\n",
    "        \"author\": \"James Clear\",\n",
    "        \"pages\": 320,\n",
    "        \"rating\": 4.8\n",
    "    }\n",
    "}\n",
    "print(my_dict[\"book\"])"
   ]
  },
  {
   "cell_type": "code",
   "execution_count": 49,
   "id": "e3b23bde-36fc-48fb-8510-51c4341ffe72",
   "metadata": {},
   "outputs": [
    {
     "name": "stdout",
     "output_type": "stream",
     "text": [
      "{'title': 'Atomic Habits', 'author': 'James Clear', 'pages': 325, 'rating': 4.8}\n"
     ]
    }
   ],
   "source": [
    "#updating\n",
    "my_dict[\"book\"].update({\"pages\": 325})\n",
    "print(my_dict[\"book\"])"
   ]
  },
  {
   "cell_type": "code",
   "execution_count": 51,
   "id": "e72eb839-94dc-4014-84f0-952e0c1eb1cc",
   "metadata": {},
   "outputs": [
    {
     "name": "stdout",
     "output_type": "stream",
     "text": [
      "{'title': 'Atomic Habits', 'author': 'James Clear', 'pages': 325, 'rating': 4.8}\n"
     ]
    }
   ],
   "source": [
    "#updating in another way\n",
    "my_dict[\"book\"][\"pages\"]= 325\n",
    "print(my_dict[\"book\"])"
   ]
  },
  {
   "cell_type": "code",
   "execution_count": 63,
   "id": "60d3e68b-6bdb-4498-bf16-fec177f3291a",
   "metadata": {},
   "outputs": [
    {
     "name": "stdout",
     "output_type": "stream",
     "text": [
      "title : Atomic Habits\n",
      "author : James Clear\n",
      "pages : 325\n",
      "rating : 4.8\n"
     ]
    }
   ],
   "source": [
    "#finding keys and value\n",
    "for key, value in my_dict[\"book\"].items():\n",
    "    print(key, \":\", value)\n"
   ]
  },
  {
   "cell_type": "code",
   "execution_count": 60,
   "id": "f245b953-9f01-48ab-80ad-d7136250e466",
   "metadata": {},
   "outputs": [
    {
     "name": "stdout",
     "output_type": "stream",
     "text": [
      "Author found!\n"
     ]
    }
   ],
   "source": [
    "#checking if author exists\n",
    "if \"author\" in my_dict[\"book\"]:\n",
    "    print(\"Author found!\")"
   ]
  },
  {
   "cell_type": "code",
   "execution_count": 70,
   "id": "17ee9777-1fcc-49f8-90d5-553c6a0ba2d3",
   "metadata": {},
   "outputs": [
    {
     "name": "stdout",
     "output_type": "stream",
     "text": [
      "{'Tanya': {'math': 87, 'science': 92, 'english': 78}, 'Dhruv': {'math': 75, 'science': 85, 'english': 80}, 'Nishtha': {'math': 90, 'science': 95, 'english': 85}}\n"
     ]
    }
   ],
   "source": [
    "#another example of making a dictionary\n",
    "my_dict= {\n",
    "    \"students\": {\n",
    "    \"Tanya\": {\"math\": 87, \"science\": 92, \"english\": 78},\n",
    "    \"Dhruv\": {\"math\": 75, \"science\": 85, \"english\": 80},\n",
    "    \"Nishtha\": {\"math\": 90, \"science\": 95, \"english\": 85}\n",
    "    }\n",
    "}\n",
    "print(my_dict[\"students\"])"
   ]
  },
  {
   "cell_type": "code",
   "execution_count": 74,
   "id": "65399b44-93af-48b0-a460-026617e28dc9",
   "metadata": {},
   "outputs": [
    {
     "name": "stdout",
     "output_type": "stream",
     "text": [
      "Tanya total: 257\n",
      "Dhruv total: 240\n",
      "Nishtha total: 270\n"
     ]
    }
   ],
   "source": [
    "#looping\n",
    "my_dict= {\n",
    "    \"students\": {\n",
    "    \"Tanya\": {\"math\": 87, \"science\": 92, \"english\": 78},\n",
    "    \"Dhruv\": {\"math\": 75, \"science\": 85, \"english\": 80},\n",
    "    \"Nishtha\": {\"math\": 90, \"science\": 95, \"english\": 85}\n",
    "    }\n",
    "}\n",
    "\n",
    "for student, marks in my_dict[\"students\"].items():\n",
    "    total= sum(marks.values())\n",
    "    print(student, \"total:\", total)"
   ]
  },
  {
   "cell_type": "code",
   "execution_count": 75,
   "id": "9cf006f0-e426-4908-8da8-643c9145c8e4",
   "metadata": {},
   "outputs": [
    {
     "name": "stdout",
     "output_type": "stream",
     "text": [
      "Tanya maximum: 92\n",
      "Dhruv maximum: 85\n",
      "Nishtha maximum: 95\n"
     ]
    }
   ],
   "source": [
    "#looping\n",
    "my_dict= {\n",
    "    \"students\": {\n",
    "    \"Tanya\": {\"math\": 87, \"science\": 92, \"english\": 78},\n",
    "    \"Dhruv\": {\"math\": 75, \"science\": 85, \"english\": 80},\n",
    "    \"Nishtha\": {\"math\": 90, \"science\": 95, \"english\": 85}\n",
    "    }\n",
    "}\n",
    "\n",
    "for student, marks in my_dict[\"students\"].items():\n",
    "    maxi = max(marks.values())\n",
    "    print(student, \"maximum:\", maxi)"
   ]
  },
  {
   "cell_type": "code",
   "execution_count": 82,
   "id": "abad4edd-5824-4648-8fa1-56bc0fb69089",
   "metadata": {},
   "outputs": [
    {
     "name": "stdout",
     "output_type": "stream",
     "text": [
      "Nishtha got highest in science with 95\n"
     ]
    }
   ],
   "source": [
    "my_dict= {\n",
    "    \"students\": {\n",
    "    \"Tanya\": {\"math\": 87, \"science\": 92, \"english\": 78},\n",
    "    \"Dhruv\": {\"math\": 75, \"science\": 85, \"english\": 80},\n",
    "    \"Nishtha\": {\"math\": 90, \"science\": 95, \"english\": 85}\n",
    "    }\n",
    "}\n",
    "highest = 0\n",
    "toper= \" \"\n",
    "\n",
    "for student, marks in my_dict[\"students\"].items():\n",
    "    science_marks= marks[\"science\"]\n",
    "if science_marks > highest:\n",
    "    highest = science_marks\n",
    "    topper=student\n",
    "print(topper, \"got highest in science with\", highest)\n"
   ]
  },
  {
   "cell_type": "code",
   "execution_count": 86,
   "id": "341ad27c-4bd2-427a-86c0-c08b3abb07f9",
   "metadata": {},
   "outputs": [
    {
     "name": "stdout",
     "output_type": "stream",
     "text": [
      "Nishtha got highest in math with 90\n"
     ]
    }
   ],
   "source": [
    "my_dict= {\n",
    "    \"students\": {\n",
    "    \"Tanya\": {\"math\": 87, \"science\": 92, \"english\": 78},\n",
    "    \"Dhruv\": {\"math\": 75, \"science\": 85, \"english\": 80},\n",
    "    \"Nishtha\": {\"math\": 90, \"science\": 95, \"english\": 85}\n",
    "    }\n",
    "}\n",
    "highest = 0\n",
    "toper= \" \"\n",
    "\n",
    "for student, marks in my_dict[\"students\"].items():\n",
    "    maths_marks= marks[\"math\"]\n",
    "if maths_marks > highest:\n",
    "    highest = maths_marks\n",
    "    topper=student\n",
    "print(topper, \"got highest in math with\", highest)\n"
   ]
  },
  {
   "cell_type": "code",
   "execution_count": 1,
   "id": "ec11050a-397c-480b-9609-f507082c78f9",
   "metadata": {},
   "outputs": [
    {
     "ename": "KeyError",
     "evalue": "'subject'",
     "output_type": "error",
     "traceback": [
      "\u001b[1;31m---------------------------------------------------------------------------\u001b[0m",
      "\u001b[1;31mKeyError\u001b[0m                                  Traceback (most recent call last)",
      "Cell \u001b[1;32mIn[1], line 12\u001b[0m\n\u001b[0;32m      9\u001b[0m topper\u001b[38;5;241m=\u001b[39m \u001b[38;5;124m\"\u001b[39m\u001b[38;5;124m \u001b[39m\u001b[38;5;124m\"\u001b[39m\n\u001b[0;32m     11\u001b[0m \u001b[38;5;28;01mfor\u001b[39;00m student, marks \u001b[38;5;129;01min\u001b[39;00m my_dict[\u001b[38;5;124m\"\u001b[39m\u001b[38;5;124mstudents\u001b[39m\u001b[38;5;124m\"\u001b[39m]\u001b[38;5;241m.\u001b[39mitems():\n\u001b[1;32m---> 12\u001b[0m     subject_marks\u001b[38;5;241m=\u001b[39m marks[\u001b[38;5;124m\"\u001b[39m\u001b[38;5;124msubject\u001b[39m\u001b[38;5;124m\"\u001b[39m]\n\u001b[0;32m     13\u001b[0m \u001b[38;5;28;01mif\u001b[39;00m subject_marks \u001b[38;5;241m>\u001b[39m highest:\n\u001b[0;32m     14\u001b[0m     highest \u001b[38;5;241m=\u001b[39m subject_marks\n",
      "\u001b[1;31mKeyError\u001b[0m: 'subject'"
     ]
    }
   ],
   "source": [
    "my_dict= {\n",
    "    \"students\": {\n",
    "    \"Tanya\": {\"math\": 87, \"science\": 92, \"english\": 78},\n",
    "    \"Dhruv\": {\"math\": 75, \"science\": 85, \"english\": 80},\n",
    "    \"Nishtha\": {\"math\": 90, \"science\": 95, \"english\": 85}\n",
    "    }\n",
    "}\n",
    "highest = 0\n",
    "topper= \" \"\n",
    "\n",
    "for student, marks in my_dict[\"students\"].items():\n",
    "    subject_marks= marks[\"subject\"]\n",
    "if subject_marks > highest:\n",
    "    highest = subject_marks\n",
    "    topper=student\n",
    "print(topper, \"got highest in math with\", highest)\n"
   ]
  },
  {
   "cell_type": "code",
   "execution_count": 7,
   "id": "de73302b-ab0f-4793-b703-77f1d5514944",
   "metadata": {},
   "outputs": [
    {
     "name": "stdout",
     "output_type": "stream",
     "text": [
      "Tanya average is: 85.67\n",
      "Dhruv average is: 80.0\n",
      "Nishtha average is: 90.0\n"
     ]
    }
   ],
   "source": [
    "my_dict= {\n",
    "    \"students\": {\n",
    "    \"Tanya\": {\"math\": 87, \"science\": 92, \"english\": 78},\n",
    "    \"Dhruv\": {\"math\": 75, \"science\": 85, \"english\": 80},\n",
    "    \"Nishtha\": {\"math\": 90, \"science\": 95, \"english\": 85}\n",
    "    }\n",
    "}\n",
    "for student, marks in my_dict[\"students\"].items():\n",
    "    total = sum(marks.values())\n",
    "    subject= len(marks)\n",
    "    average= total / subject\n",
    "    print(student, \"average is:\", round(average,2))"
   ]
  },
  {
   "cell_type": "code",
   "execution_count": 14,
   "id": "4194f66d-bb50-4f79-ba02-e7e6953c8680",
   "metadata": {},
   "outputs": [
    {
     "name": "stdout",
     "output_type": "stream",
     "text": [
      "Nishtha scored highest average marks overall 90.0\n"
     ]
    }
   ],
   "source": [
    "my_dict= {\n",
    "    \"students\": {\n",
    "    \"Tanya\": {\"math\": 87, \"science\": 92, \"english\": 78},\n",
    "    \"Dhruv\": {\"math\": 75, \"science\": 85, \"english\": 80},\n",
    "    \"Nishtha\": {\"math\": 90, \"science\" : 95, \"english\": 85}\n",
    "    }\n",
    "}\n",
    "highest = 0\n",
    "for student, marks in my_dict[\"students\"].items():\n",
    "    total = sum(marks.values())\n",
    "    subject= len(marks)\n",
    "    average= total / subject\n",
    "if average > highest:\n",
    "    highest = average\n",
    "    print(student, \"scored highest average marks overall\", round(average,2))"
   ]
  },
  {
   "cell_type": "code",
   "execution_count": 21,
   "id": "73961d9e-e2a4-4c86-b305-6aac96fe6925",
   "metadata": {},
   "outputs": [
    {
     "name": "stdout",
     "output_type": "stream",
     "text": [
      "Tanya scored 87 in math, 92 in science, and 78 in english.\n",
      "Dhruv scored 75 in math, 85 in science, and 80 in english.\n",
      "Nishtha scored 90 in math, 95 in science, and 85 in english.\n"
     ]
    }
   ],
   "source": [
    "my_dict= {\n",
    "    \"students\": {\n",
    "    \"Tanya\": {\"math\": 87, \"science\": 92, \"english\": 78},\n",
    "    \"Dhruv\": {\"math\": 75, \"science\": 85, \"english\": 80},\n",
    "    \"Nishtha\": {\"math\": 90, \"science\" : 95, \"english\": 85}\n",
    "    }\n",
    "}\n",
    "for student, marks in my_dict[\"students\"].items():\n",
    "    print(f\"{student} scored {marks[\"math\"]} in math, {marks[\"science\"]} in science, and {marks[\"english\"]} in english.\")"
   ]
  },
  {
   "cell_type": "code",
   "execution_count": 27,
   "id": "eb7b69d8-020b-47df-9ebd-2acc938798a7",
   "metadata": {},
   "outputs": [
    {
     "name": "stdout",
     "output_type": "stream",
     "text": [
      "['87 in math', '92 in science', '78 in english']\n",
      "['75 in math', '85 in science', '80 in english']\n",
      "['90 in math', '95 in science', '85 in english']\n"
     ]
    }
   ],
   "source": [
    "my_dict= {\n",
    "    \"students\": {\n",
    "    \"Tanya\": {\"math\": 87, \"science\": 92, \"english\": 78},\n",
    "    \"Dhruv\": {\"math\": 75, \"science\": 85, \"english\": 80},\n",
    "    \"Nishtha\": {\"math\": 90, \"science\" : 95, \"english\": 85}\n",
    "    }\n",
    "}\n",
    "for student, marks in my_dict[\"students\"].items():\n",
    "    subjects = [f\"{score} in {subject}\" for subject, score in marks.items()]\n",
    "    print(subjects)"
   ]
  },
  {
   "cell_type": "code",
   "execution_count": 1,
   "id": "51b34ffe-15b5-4083-9487-f5ca36f26528",
   "metadata": {},
   "outputs": [
    {
     "name": "stdout",
     "output_type": "stream",
     "text": [
      "[1, 2, 3, 4]\n"
     ]
    }
   ],
   "source": [
    "a= [1,2,3,4]\n",
    "b=a.copy()\n",
    "print(b)"
   ]
  },
  {
   "cell_type": "code",
   "execution_count": 3,
   "id": "7c6a9d7f-ad8b-4e71-a8ed-c55b8f591f14",
   "metadata": {},
   "outputs": [
    {
     "data": {
      "text/plain": [
       "2382379505920"
      ]
     },
     "execution_count": 3,
     "metadata": {},
     "output_type": "execute_result"
    }
   ],
   "source": [
    "id(a)"
   ]
  },
  {
   "cell_type": "code",
   "execution_count": 4,
   "id": "559018a4-f037-4af2-beec-2da46a99f880",
   "metadata": {},
   "outputs": [
    {
     "data": {
      "text/plain": [
       "2382379816192"
      ]
     },
     "execution_count": 4,
     "metadata": {},
     "output_type": "execute_result"
    }
   ],
   "source": [
    "id(b)"
   ]
  },
  {
   "cell_type": "code",
   "execution_count": 5,
   "id": "e1af8f64-3cf3-499c-a81a-01ac63bc451c",
   "metadata": {},
   "outputs": [
    {
     "name": "stdout",
     "output_type": "stream",
     "text": [
      "<class 'int'>\n"
     ]
    }
   ],
   "source": [
    "a=10\n",
    "print(type(a))"
   ]
  },
  {
   "cell_type": "code",
   "execution_count": 6,
   "id": "d6e46568-79a7-4722-b6c8-93d627a45597",
   "metadata": {},
   "outputs": [
    {
     "name": "stdout",
     "output_type": "stream",
     "text": [
      "<class 'float'>\n"
     ]
    }
   ],
   "source": [
    "b= 5.5\n",
    "print(type(b))"
   ]
  },
  {
   "cell_type": "code",
   "execution_count": 9,
   "id": "4368b1f5-2dfd-48bc-8359-0a56647b6ced",
   "metadata": {},
   "outputs": [
    {
     "name": "stdout",
     "output_type": "stream",
     "text": [
      "<class 'str'>\n"
     ]
    }
   ],
   "source": [
    "name='shiv'\n",
    "print(type(name))"
   ]
  },
  {
   "cell_type": "code",
   "execution_count": 11,
   "id": "f8929e61-3130-4f54-b6e4-83cf273376ac",
   "metadata": {},
   "outputs": [
    {
     "name": "stdout",
     "output_type": "stream",
     "text": [
      "<class 'bool'>\n"
     ]
    }
   ],
   "source": [
    "f=True and False\n",
    "print(type(f))"
   ]
  },
  {
   "cell_type": "code",
   "execution_count": 33,
   "id": "e86f9c12-8fa4-43ee-abde-32582b462d28",
   "metadata": {},
   "outputs": [
    {
     "name": "stdout",
     "output_type": "stream",
     "text": [
      "<class 'list'>\n"
     ]
    }
   ],
   "source": [
    "#part 1 completed\n",
    "d=[1,2,3]\n",
    "print(type(d))"
   ]
  },
  {
   "cell_type": "code",
   "execution_count": 18,
   "id": "7ad707c0-387f-4d3a-8642-879c88c7f196",
   "metadata": {},
   "outputs": [
    {
     "name": "stdout",
     "output_type": "stream",
     "text": [
      "['apple', 'mango', 'orange']\n"
     ]
    }
   ],
   "source": [
    "fruits=[\"apple\", \"banana\"]\n",
    "fruits.append(\"mango\")\n",
    "fruits.extend([\"orange\", \"grape\"])\n",
    "fruits.remove(\"banana\")\n",
    "fruits.pop()\n",
    "fruits.index(\"apple\")\n",
    "print(fruits)"
   ]
  },
  {
   "cell_type": "code",
   "execution_count": 19,
   "id": "5ba16dc9-e1e1-4d31-8cd9-0a512277d3ac",
   "metadata": {},
   "outputs": [
    {
     "data": {
      "text/plain": [
       "0"
      ]
     },
     "execution_count": 19,
     "metadata": {},
     "output_type": "execute_result"
    }
   ],
   "source": [
    "fruits.index(\"apple\")"
   ]
  },
  {
   "cell_type": "code",
   "execution_count": 20,
   "id": "1e38ffaa-8396-4821-b93d-592cd5ae40a8",
   "metadata": {},
   "outputs": [
    {
     "data": {
      "text/plain": [
       "1"
      ]
     },
     "execution_count": 20,
     "metadata": {},
     "output_type": "execute_result"
    }
   ],
   "source": [
    "fruits.count(\"apple\")"
   ]
  },
  {
   "cell_type": "code",
   "execution_count": 21,
   "id": "d4078056-a866-4037-9cbf-880c32ed7a1e",
   "metadata": {},
   "outputs": [
    {
     "name": "stdout",
     "output_type": "stream",
     "text": [
      "[1, 2, 3, 4]\n"
     ]
    }
   ],
   "source": [
    "z=[4,1,2,3]\n",
    "z.sort()\n",
    "print(z)"
   ]
  },
  {
   "cell_type": "code",
   "execution_count": 22,
   "id": "868f82ea-c5b1-47f6-ad0a-7a2eadb351da",
   "metadata": {},
   "outputs": [
    {
     "name": "stdout",
     "output_type": "stream",
     "text": [
      "[4, 3, 2, 1]\n"
     ]
    }
   ],
   "source": [
    "z.reverse()\n",
    "print(z)"
   ]
  },
  {
   "cell_type": "code",
   "execution_count": 24,
   "id": "3def4585-fb26-4875-900a-5f5922f2f1ca",
   "metadata": {},
   "outputs": [
    {
     "name": "stdout",
     "output_type": "stream",
     "text": [
      "[]\n"
     ]
    }
   ],
   "source": [
    "#part 2 completed\n",
    "z.clear()\n",
    "print(z)"
   ]
  },
  {
   "cell_type": "code",
   "execution_count": 28,
   "id": "7b58ee68-bdc8-48d0-8a23-fa3f040b2cc9",
   "metadata": {},
   "outputs": [
    {
     "data": {
      "text/plain": [
       "1"
      ]
     },
     "execution_count": 28,
     "metadata": {},
     "output_type": "execute_result"
    }
   ],
   "source": [
    "t=(1,2,3,4)\n",
    "t.count(2)"
   ]
  },
  {
   "cell_type": "code",
   "execution_count": 27,
   "id": "d9ad4b8a-5da6-4c75-b1c4-2f4b57d46e84",
   "metadata": {},
   "outputs": [
    {
     "data": {
      "text/plain": [
       "2"
      ]
     },
     "execution_count": 27,
     "metadata": {},
     "output_type": "execute_result"
    }
   ],
   "source": [
    "t.index(3)"
   ]
  },
  {
   "cell_type": "code",
   "execution_count": 31,
   "id": "38cbf954-9894-4b62-acf9-acae441c2ec6",
   "metadata": {},
   "outputs": [
    {
     "name": "stdout",
     "output_type": "stream",
     "text": [
      "('bread', 'butter')\n"
     ]
    }
   ],
   "source": [
    "bakery=[\"bread\", \"butter\"]\n",
    "bakery_list=tuple(bakery)\n",
    "print(bakery_list)"
   ]
  },
  {
   "cell_type": "code",
   "execution_count": 32,
   "id": "f55f6d2c-2ccb-4914-87fd-eb174b625263",
   "metadata": {},
   "outputs": [
    {
     "ename": "AttributeError",
     "evalue": "'tuple' object has no attribute 'update'",
     "output_type": "error",
     "traceback": [
      "\u001b[1;31m---------------------------------------------------------------------------\u001b[0m",
      "\u001b[1;31mAttributeError\u001b[0m                            Traceback (most recent call last)",
      "Cell \u001b[1;32mIn[32], line 1\u001b[0m\n\u001b[1;32m----> 1\u001b[0m t\u001b[38;5;241m.\u001b[39mupdate(\u001b[38;5;241m5\u001b[39m)\n",
      "\u001b[1;31mAttributeError\u001b[0m: 'tuple' object has no attribute 'update'"
     ]
    }
   ],
   "source": [
    "#part 3 completed\n",
    "t.update(5)"
   ]
  },
  {
   "cell_type": "code",
   "execution_count": 35,
   "id": "c7ddf537-af4c-4ab3-b704-135d17dd9198",
   "metadata": {},
   "outputs": [
    {
     "name": "stdout",
     "output_type": "stream",
     "text": [
      "{'Krishna', 'Ram', 'Shiv', 'Hanuman'}\n"
     ]
    }
   ],
   "source": [
    "#part 4 starting\n",
    "set={'Shiv', 'Ram', 'Krishna'}\n",
    "set.add('Hanuman')\n",
    "print(set)"
   ]
  },
  {
   "cell_type": "code",
   "execution_count": 41,
   "id": "f9ac37cf-f74a-407b-a23a-74e4d1da8dd5",
   "metadata": {},
   "outputs": [
    {
     "name": "stdout",
     "output_type": "stream",
     "text": [
      "{'Shiv', 'Hanuman', 'Ganesh', 'Krishna', 'Durga'}\n"
     ]
    }
   ],
   "source": [
    "set={'Krishna', 'Ram', 'Shiv', 'Hanuman'}\n",
    "set.update({\"Durga\", \"Ganesh\"})\n",
    "set.remove('Ram')\n",
    "set.discard('Lakshmi')\n",
    "print(set)"
   ]
  },
  {
   "cell_type": "code",
   "execution_count": 42,
   "id": "ca6608dd-7285-49d0-9eaa-30fbb2fffe61",
   "metadata": {},
   "outputs": [
    {
     "name": "stdout",
     "output_type": "stream",
     "text": [
      "shiv\n"
     ]
    }
   ],
   "source": [
    "#part 5 starting\n",
    "my_dict={\"name\": \"shiv\", \"power\":\"destruction\"}\n",
    "print(my_dict[\"name\"])"
   ]
  },
  {
   "cell_type": "code",
   "execution_count": 47,
   "id": "31ee60ad-455a-4157-b640-bd977abd624b",
   "metadata": {},
   "outputs": [
    {
     "name": "stdout",
     "output_type": "stream",
     "text": [
      "{'name': 'shiv', 'power': 'destruction', 'weapon': 'trishul'}\n"
     ]
    }
   ],
   "source": [
    "my_dict.update({'weapon':'trishul'})\n",
    "print(my_dict)"
   ]
  },
  {
   "cell_type": "code",
   "execution_count": 50,
   "id": "f12a36c4-f0eb-4171-97a4-ca722dda6593",
   "metadata": {},
   "outputs": [
    {
     "name": "stdout",
     "output_type": "stream",
     "text": [
      "N/A\n"
     ]
    }
   ],
   "source": [
    "print(my_dict.get(\"vehicle\", \"N/A\"))"
   ]
  },
  {
   "cell_type": "code",
   "execution_count": 60,
   "id": "26692d2a-a0de-439a-b41d-1332fae361b2",
   "metadata": {},
   "outputs": [
    {
     "name": "stdout",
     "output_type": "stream",
     "text": [
      "name\n",
      "power\n",
      "weapon\n"
     ]
    }
   ],
   "source": [
    "for key in my_dict:\n",
    "    print(key)"
   ]
  },
  {
   "cell_type": "code",
   "execution_count": 62,
   "id": "8ebf38f3-cff9-4879-8899-d69664c1aab9",
   "metadata": {},
   "outputs": [
    {
     "name": "stdout",
     "output_type": "stream",
     "text": [
      "name\n",
      "power\n",
      "weapon\n"
     ]
    }
   ],
   "source": [
    "for value in my_dict:\n",
    "    print(value)"
   ]
  },
  {
   "cell_type": "code",
   "execution_count": 64,
   "id": "7e969b1f-6a73-447c-a073-d87989509978",
   "metadata": {},
   "outputs": [
    {
     "name": "stdout",
     "output_type": "stream",
     "text": [
      "name : shiv\n",
      "power : destruction\n",
      "weapon : trishul\n"
     ]
    }
   ],
   "source": [
    "for key, value in my_dict.items():\n",
    "    print(key, \":\", value)"
   ]
  },
  {
   "cell_type": "code",
   "execution_count": 65,
   "id": "320d0d23-fa80-472c-8390-3c526a1a20d3",
   "metadata": {},
   "outputs": [
    {
     "name": "stdout",
     "output_type": "stream",
     "text": [
      "['False', 'None', 'True', 'and', 'as', 'assert', 'async', 'await', 'break', 'class', 'continue', 'def', 'del', 'elif', 'else', 'except', 'finally', 'for', 'from', 'global', 'if', 'import', 'in', 'is', 'lambda', 'nonlocal', 'not', 'or', 'pass', 'raise', 'return', 'try', 'while', 'with', 'yield']\n"
     ]
    }
   ],
   "source": [
    "#starting question number 6\n",
    "import keyword\n",
    "print(keyword.kwlist)"
   ]
  },
  {
   "cell_type": "code",
   "execution_count": 66,
   "id": "fd37dc8b-c3b5-4422-bc67-012dbe5fc442",
   "metadata": {},
   "outputs": [
    {
     "name": "stdout",
     "output_type": "stream",
     "text": [
      "Tanya\n"
     ]
    }
   ],
   "source": [
    "name= 'Tanya'\n",
    "print(name)"
   ]
  },
  {
   "cell_type": "code",
   "execution_count": 67,
   "id": "c5bf1263-a6dc-4cf3-829c-841d6f956630",
   "metadata": {},
   "outputs": [
    {
     "name": "stdout",
     "output_type": "stream",
     "text": [
      "Tanya!!\n"
     ]
    }
   ],
   "source": [
    "name=\"Tanya!!\"\n",
    "print(name)"
   ]
  },
  {
   "cell_type": "code",
   "execution_count": 68,
   "id": "b30f26d8-3636-40c8-9c13-fff42c679b27",
   "metadata": {},
   "outputs": [
    {
     "name": "stdout",
     "output_type": "stream",
     "text": [
      "\"Tanya_gera1@\"\n"
     ]
    }
   ],
   "source": [
    "name='\"Tanya_gera1@\"'\n",
    "print(name)"
   ]
  },
  {
   "cell_type": "code",
   "execution_count": 69,
   "id": "55071d7a-b62c-4f98-9cf4-bc5acb8755b9",
   "metadata": {},
   "outputs": [
    {
     "name": "stdout",
     "output_type": "stream",
     "text": [
      "Krishna\n"
     ]
    }
   ],
   "source": [
    "#starting question number 7\n",
    "name= \"Krishna\"\n",
    "print(name)"
   ]
  },
  {
   "cell_type": "code",
   "execution_count": 70,
   "id": "dab1f457-5dce-47a8-bf54-4c744209f6c3",
   "metadata": {},
   "outputs": [
    {
     "name": "stdout",
     "output_type": "stream",
     "text": [
      "<class 'float'>\n"
     ]
    }
   ],
   "source": [
    "f= 9.81\n",
    "print(type(f))"
   ]
  },
  {
   "cell_type": "code",
   "execution_count": 71,
   "id": "cf6cf3fb-a20c-4d99-b019-080ae0760019",
   "metadata": {},
   "outputs": [
    {
     "name": "stdout",
     "output_type": "stream",
     "text": [
      "<class 'list'>\n"
     ]
    }
   ],
   "source": [
    "k=[\"jaan\", 0.01]\n",
    "print(type(k))"
   ]
  },
  {
   "cell_type": "code",
   "execution_count": 73,
   "id": "83b884e5-d42f-4d10-9766-d5da27b1d128",
   "metadata": {},
   "outputs": [
    {
     "name": "stdout",
     "output_type": "stream",
     "text": [
      "<class 'type'>\n"
     ]
    }
   ],
   "source": [
    "\"is_raining\" == False\n",
    "\"is_not_raining\" == True\n",
    "print(type)"
   ]
  },
  {
   "cell_type": "code",
   "execution_count": 74,
   "id": "f3c3a369-6543-42c1-bf40-d2580b136338",
   "metadata": {},
   "outputs": [
    {
     "name": "stdout",
     "output_type": "stream",
     "text": [
      "<class 'str'>\n"
     ]
    }
   ],
   "source": [
    "car= \"Honda City\"\n",
    "print(type(car))"
   ]
  },
  {
   "cell_type": "code",
   "execution_count": 75,
   "id": "2fd4cdf2-b8c1-4133-b74d-d40ca7d81a1e",
   "metadata": {},
   "outputs": [
    {
     "name": "stdout",
     "output_type": "stream",
     "text": [
      "<class 'int'>\n"
     ]
    }
   ],
   "source": [
    "f= 100\n",
    "print(type(f))"
   ]
  },
  {
   "cell_type": "code",
   "execution_count": 76,
   "id": "709b7369-24eb-44ff-ae4e-14aefc1367b6",
   "metadata": {},
   "outputs": [
    {
     "name": "stdout",
     "output_type": "stream",
     "text": [
      "<class 'float'>\n"
     ]
    }
   ],
   "source": [
    "marks= 11.7\n",
    "print(type(marks))"
   ]
  },
  {
   "cell_type": "code",
   "execution_count": 77,
   "id": "fbb6a11b-c64c-43c4-b8e0-0f87d30511cd",
   "metadata": {},
   "outputs": [
    {
     "name": "stdout",
     "output_type": "stream",
     "text": [
      "<class 'list'>\n"
     ]
    }
   ],
   "source": [
    "school=[\"Dayanand Vihar\", 110092]\n",
    "print(type(school))"
   ]
  },
  {
   "cell_type": "code",
   "execution_count": 78,
   "id": "4358deed-8830-44c1-a5f9-21af8c273af9",
   "metadata": {},
   "outputs": [
    {
     "name": "stdout",
     "output_type": "stream",
     "text": [
      "<class 'dict'>\n"
     ]
    }
   ],
   "source": [
    "school={\"book\": \"Alchemist\", \"Author\":\"Pubo\"}\n",
    "print(type(school))"
   ]
  },
  {
   "cell_type": "code",
   "execution_count": 79,
   "id": "2e068fc6-8af1-46e5-89ea-13677ca20ad6",
   "metadata": {},
   "outputs": [
    {
     "ename": "SyntaxError",
     "evalue": "unterminated string literal (detected at line 2) (136819516.py, line 2)",
     "output_type": "error",
     "traceback": [
      "\u001b[1;36m  Cell \u001b[1;32mIn[79], line 2\u001b[1;36m\u001b[0m\n\u001b[1;33m    print('It's sunny')\u001b[0m\n\u001b[1;37m                     ^\u001b[0m\n\u001b[1;31mSyntaxError\u001b[0m\u001b[1;31m:\u001b[0m unterminated string literal (detected at line 2)\n"
     ]
    }
   ],
   "source": [
    "#question number 8\n",
    "print('It's sunny')"
   ]
  },
  {
   "cell_type": "code",
   "execution_count": 81,
   "id": "29fbb1ed-4e50-46fc-8938-92bfae88d523",
   "metadata": {},
   "outputs": [
    {
     "name": "stdout",
     "output_type": "stream",
     "text": [
      "It's sunny\n"
     ]
    }
   ],
   "source": [
    "# single quote wont work bcz apostrophes\n",
    "print(\"It's sunny\")"
   ]
  },
  {
   "cell_type": "code",
   "execution_count": 86,
   "id": "b31cbdbc-33e6-4a6d-9370-1b021dde1ab1",
   "metadata": {},
   "outputs": [
    {
     "name": "stdout",
     "output_type": "stream",
     "text": [
      "She said, \"It's a beautiful day\", I smiled.\n"
     ]
    }
   ],
   "source": [
    "sentence = '''She said, \"It's a beautiful day\", I smiled.'''\n",
    "print(sentence)"
   ]
  },
  {
   "cell_type": "code",
   "execution_count": 88,
   "id": "d07fc50a-3ee3-4054-8dd1-a51dfde8fa8e",
   "metadata": {},
   "outputs": [
    {
     "name": "stdout",
     "output_type": "stream",
     "text": [
      "\"Jai Shri Ram\", he said. 'Let the truth win!'\n"
     ]
    }
   ],
   "source": [
    "text= \"\"\"\"Jai Shri Ram\", he said. 'Let the truth win!'\"\"\"\n",
    "print(text)"
   ]
  },
  {
   "cell_type": "code",
   "execution_count": 89,
   "id": "589aaef2-e778-4548-86a2-e5bffac1e1b3",
   "metadata": {},
   "outputs": [
    {
     "name": "stdout",
     "output_type": "stream",
     "text": [
      "/n\n"
     ]
    }
   ],
   "source": [
    "print(\"/n\")"
   ]
  },
  {
   "cell_type": "code",
   "execution_count": 90,
   "id": "a03e0699-59d0-475b-ab1f-a774a93a0d01",
   "metadata": {},
   "outputs": [
    {
     "name": "stdout",
     "output_type": "stream",
     "text": [
      "/n\n"
     ]
    }
   ],
   "source": [
    "print('/n')"
   ]
  },
  {
   "cell_type": "code",
   "execution_count": 91,
   "id": "8a3e5864-0c67-4c29-b08d-0aaaf0d06499",
   "metadata": {},
   "outputs": [
    {
     "name": "stdout",
     "output_type": "stream",
     "text": [
      "/n\n"
     ]
    }
   ],
   "source": [
    "print('''/n''')"
   ]
  },
  {
   "cell_type": "code",
   "execution_count": 92,
   "id": "4d4e863c-6cc5-459e-8f07-df30c5bf43e6",
   "metadata": {},
   "outputs": [
    {
     "name": "stdout",
     "output_type": "stream",
     "text": [
      "/n\n"
     ]
    }
   ],
   "source": [
    "print(\"\"\"/n\"\"\")"
   ]
  },
  {
   "cell_type": "code",
   "execution_count": 93,
   "id": "86243f3c-52ef-47e7-8fbc-ec12c32aa5ce",
   "metadata": {},
   "outputs": [
    {
     "name": "stdout",
     "output_type": "stream",
     "text": [
      "['Radha', 'Rani', 'Vrindavan', 100, 0.25]\n"
     ]
    }
   ],
   "source": [
    "#question 9 starting\n",
    "List= [\"Radha\", \"Rani\", \"Vrindavan\", 100, 0.25]\n",
    "print(List)"
   ]
  },
  {
   "cell_type": "code",
   "execution_count": 95,
   "id": "ef92bfab-0e58-4676-9fdd-4bb1fec3ed0e",
   "metadata": {},
   "outputs": [
    {
     "data": {
      "text/plain": [
       "list"
      ]
     },
     "execution_count": 95,
     "metadata": {},
     "output_type": "execute_result"
    }
   ],
   "source": [
    "type([1, \"Ram\", True])"
   ]
  },
  {
   "cell_type": "code",
   "execution_count": 96,
   "id": "84030ab5-ba80-48ac-98d2-7b2abb1bd9ef",
   "metadata": {},
   "outputs": [
    {
     "data": {
      "text/plain": [
       "NoneType"
      ]
     },
     "execution_count": 96,
     "metadata": {},
     "output_type": "execute_result"
    }
   ],
   "source": [
    "type(None)"
   ]
  },
  {
   "cell_type": "code",
   "execution_count": 103,
   "id": "d11f334b-8a13-4fb2-a30a-804a786f3a0c",
   "metadata": {},
   "outputs": [
    {
     "name": "stdout",
     "output_type": "stream",
     "text": [
      "<class 'list'>\n"
     ]
    }
   ],
   "source": [
    "nested_list= [1, [2, 3], 4]\n",
    "print(type(nested_list))"
   ]
  },
  {
   "cell_type": "code",
   "execution_count": null,
   "id": "df6e1251-527a-4589-9aac-4d9bd151c3f3",
   "metadata": {},
   "outputs": [],
   "source": [
    "my_dict=[{\"name\":\"shiv\"}]\n",
    "print(my_"
   ]
  }
 ],
 "metadata": {
  "kernelspec": {
   "display_name": "Python 3 (ipykernel)",
   "language": "python",
   "name": "python3"
  },
  "language_info": {
   "codemirror_mode": {
    "name": "ipython",
    "version": 3
   },
   "file_extension": ".py",
   "mimetype": "text/x-python",
   "name": "python",
   "nbconvert_exporter": "python",
   "pygments_lexer": "ipython3",
   "version": "3.12.4"
  }
 },
 "nbformat": 4,
 "nbformat_minor": 5
}
